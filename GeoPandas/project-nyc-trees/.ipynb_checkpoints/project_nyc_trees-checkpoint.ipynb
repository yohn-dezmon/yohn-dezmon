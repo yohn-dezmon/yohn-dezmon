{
 "cells": [
  {
   "cell_type": "code",
   "execution_count": 6,
   "id": "81a0f833",
   "metadata": {},
   "outputs": [],
   "source": [
    "import geopandas\n",
    "import geodatasets"
   ]
  },
  {
   "cell_type": "code",
   "execution_count": 7,
   "id": "f5cfcef9",
   "metadata": {},
   "outputs": [],
   "source": [
    "# nyc_trees = geopandas.read_file(\"data/2015 Street Tree Census - Tree Data.geojson\")\n",
    "# note: you need to install pyarrow for this to work\n",
    "nyc_trees = geopandas.read_parquet(\"data/nyc_trees.parquet\")"
   ]
  },
  {
   "cell_type": "code",
   "execution_count": 8,
   "id": "a5d93058",
   "metadata": {},
   "outputs": [],
   "source": [
    "# to_parquet is not supported in production yet.\n",
    "# using parquet reduces the read of the file to < 1 min.\n",
    "# without using parquet, read_file() takes ~6 min\n",
    "# nyc_trees.to_parquet('data/nyc_trees.parquet')"
   ]
  },
  {
   "cell_type": "code",
   "execution_count": 9,
   "id": "210b134d",
   "metadata": {},
   "outputs": [],
   "source": [
    "# TODO: Split up nyc_trees into bk_trees, mh_trees, queens_trees, si_trees, bronx_trees"
   ]
  },
  {
   "cell_type": "code",
   "execution_count": 10,
   "id": "8ba2c485",
   "metadata": {},
   "outputs": [
    {
     "data": {
      "text/html": [
       "<div>\n",
       "<style scoped>\n",
       "    .dataframe tbody tr th:only-of-type {\n",
       "        vertical-align: middle;\n",
       "    }\n",
       "\n",
       "    .dataframe tbody tr th {\n",
       "        vertical-align: top;\n",
       "    }\n",
       "\n",
       "    .dataframe thead th {\n",
       "        text-align: right;\n",
       "    }\n",
       "</style>\n",
       "<table border=\"1\" class=\"dataframe\">\n",
       "  <thead>\n",
       "    <tr style=\"text-align: right;\">\n",
       "      <th></th>\n",
       "      <th>nta</th>\n",
       "      <th>health</th>\n",
       "      <th>zipcode</th>\n",
       "      <th>latitude</th>\n",
       "      <th>nta_name</th>\n",
       "      <th>state</th>\n",
       "      <th>trnk_wire</th>\n",
       "      <th>y_sp</th>\n",
       "      <th>brnch_othe</th>\n",
       "      <th>root_grate</th>\n",
       "      <th>...</th>\n",
       "      <th>address</th>\n",
       "      <th>sidewalk</th>\n",
       "      <th>root_other</th>\n",
       "      <th>created_at</th>\n",
       "      <th>borocode</th>\n",
       "      <th>block_id</th>\n",
       "      <th>trnk_light</th>\n",
       "      <th>tree_dbh</th>\n",
       "      <th>root_stone</th>\n",
       "      <th>geometry</th>\n",
       "    </tr>\n",
       "  </thead>\n",
       "  <tbody>\n",
       "    <tr>\n",
       "      <th>0</th>\n",
       "      <td>QN17</td>\n",
       "      <td>Fair</td>\n",
       "      <td>11375</td>\n",
       "      <td>40.72309177</td>\n",
       "      <td>Forest Hills</td>\n",
       "      <td>New York</td>\n",
       "      <td>No</td>\n",
       "      <td>202756.768749</td>\n",
       "      <td>No</td>\n",
       "      <td>No</td>\n",
       "      <td>...</td>\n",
       "      <td>108-005 70 AVENUE</td>\n",
       "      <td>NoDamage</td>\n",
       "      <td>No</td>\n",
       "      <td>08/27/2015</td>\n",
       "      <td>4</td>\n",
       "      <td>348711</td>\n",
       "      <td>No</td>\n",
       "      <td>3</td>\n",
       "      <td>No</td>\n",
       "      <td>POINT (-73.84422 40.72309)</td>\n",
       "    </tr>\n",
       "    <tr>\n",
       "      <th>1</th>\n",
       "      <td>QN49</td>\n",
       "      <td>Fair</td>\n",
       "      <td>11357</td>\n",
       "      <td>40.79411067</td>\n",
       "      <td>Whitestone</td>\n",
       "      <td>New York</td>\n",
       "      <td>No</td>\n",
       "      <td>228644.837379</td>\n",
       "      <td>No</td>\n",
       "      <td>No</td>\n",
       "      <td>...</td>\n",
       "      <td>147-074 7 AVENUE</td>\n",
       "      <td>Damage</td>\n",
       "      <td>No</td>\n",
       "      <td>09/03/2015</td>\n",
       "      <td>4</td>\n",
       "      <td>315986</td>\n",
       "      <td>No</td>\n",
       "      <td>21</td>\n",
       "      <td>Yes</td>\n",
       "      <td>POINT (-73.81868 40.79411)</td>\n",
       "    </tr>\n",
       "    <tr>\n",
       "      <th>2</th>\n",
       "      <td>BK90</td>\n",
       "      <td>Good</td>\n",
       "      <td>11211</td>\n",
       "      <td>40.71758074</td>\n",
       "      <td>East Williamsburg</td>\n",
       "      <td>New York</td>\n",
       "      <td>No</td>\n",
       "      <td>200716.891267</td>\n",
       "      <td>No</td>\n",
       "      <td>No</td>\n",
       "      <td>...</td>\n",
       "      <td>390 MORGAN AVENUE</td>\n",
       "      <td>Damage</td>\n",
       "      <td>No</td>\n",
       "      <td>09/05/2015</td>\n",
       "      <td>3</td>\n",
       "      <td>218365</td>\n",
       "      <td>No</td>\n",
       "      <td>3</td>\n",
       "      <td>No</td>\n",
       "      <td>POINT (-73.93661 40.71758)</td>\n",
       "    </tr>\n",
       "    <tr>\n",
       "      <th>3</th>\n",
       "      <td>BK90</td>\n",
       "      <td>Good</td>\n",
       "      <td>11211</td>\n",
       "      <td>40.71353749</td>\n",
       "      <td>East Williamsburg</td>\n",
       "      <td>New York</td>\n",
       "      <td>No</td>\n",
       "      <td>199244.253136</td>\n",
       "      <td>No</td>\n",
       "      <td>No</td>\n",
       "      <td>...</td>\n",
       "      <td>1027 GRAND STREET</td>\n",
       "      <td>Damage</td>\n",
       "      <td>No</td>\n",
       "      <td>09/05/2015</td>\n",
       "      <td>3</td>\n",
       "      <td>217969</td>\n",
       "      <td>No</td>\n",
       "      <td>10</td>\n",
       "      <td>Yes</td>\n",
       "      <td>POINT (-73.93446 40.71354)</td>\n",
       "    </tr>\n",
       "    <tr>\n",
       "      <th>4</th>\n",
       "      <td>BK37</td>\n",
       "      <td>Good</td>\n",
       "      <td>11215</td>\n",
       "      <td>40.66677776</td>\n",
       "      <td>Park Slope-Gowanus</td>\n",
       "      <td>New York</td>\n",
       "      <td>No</td>\n",
       "      <td>182202.425999</td>\n",
       "      <td>No</td>\n",
       "      <td>No</td>\n",
       "      <td>...</td>\n",
       "      <td>603 6 STREET</td>\n",
       "      <td>Damage</td>\n",
       "      <td>No</td>\n",
       "      <td>08/30/2015</td>\n",
       "      <td>3</td>\n",
       "      <td>223043</td>\n",
       "      <td>No</td>\n",
       "      <td>21</td>\n",
       "      <td>Yes</td>\n",
       "      <td>POINT (-73.97598 40.66678)</td>\n",
       "    </tr>\n",
       "  </tbody>\n",
       "</table>\n",
       "<p>5 rows × 42 columns</p>\n",
       "</div>"
      ],
      "text/plain": [
       "    nta health zipcode     latitude            nta_name     state trnk_wire  \\\n",
       "0  QN17   Fair   11375  40.72309177        Forest Hills  New York        No   \n",
       "1  QN49   Fair   11357  40.79411067          Whitestone  New York        No   \n",
       "2  BK90   Good   11211  40.71758074   East Williamsburg  New York        No   \n",
       "3  BK90   Good   11211  40.71353749   East Williamsburg  New York        No   \n",
       "4  BK37   Good   11215  40.66677776  Park Slope-Gowanus  New York        No   \n",
       "\n",
       "            y_sp brnch_othe root_grate  ...            address  sidewalk  \\\n",
       "0  202756.768749         No         No  ...  108-005 70 AVENUE  NoDamage   \n",
       "1  228644.837379         No         No  ...   147-074 7 AVENUE    Damage   \n",
       "2  200716.891267         No         No  ...  390 MORGAN AVENUE    Damage   \n",
       "3  199244.253136         No         No  ...  1027 GRAND STREET    Damage   \n",
       "4  182202.425999         No         No  ...       603 6 STREET    Damage   \n",
       "\n",
       "  root_other  created_at borocode block_id trnk_light tree_dbh root_stone  \\\n",
       "0         No  08/27/2015        4   348711         No        3         No   \n",
       "1         No  09/03/2015        4   315986         No       21        Yes   \n",
       "2         No  09/05/2015        3   218365         No        3         No   \n",
       "3         No  09/05/2015        3   217969         No       10        Yes   \n",
       "4         No  08/30/2015        3   223043         No       21        Yes   \n",
       "\n",
       "                     geometry  \n",
       "0  POINT (-73.84422 40.72309)  \n",
       "1  POINT (-73.81868 40.79411)  \n",
       "2  POINT (-73.93661 40.71758)  \n",
       "3  POINT (-73.93446 40.71354)  \n",
       "4  POINT (-73.97598 40.66678)  \n",
       "\n",
       "[5 rows x 42 columns]"
      ]
     },
     "execution_count": 10,
     "metadata": {},
     "output_type": "execute_result"
    }
   ],
   "source": [
    "nyc_trees.head()"
   ]
  },
  {
   "cell_type": "code",
   "execution_count": 11,
   "id": "b744ad8e",
   "metadata": {},
   "outputs": [
    {
     "data": {
      "text/plain": [
       "Index(['nta', 'health', 'zipcode', 'latitude', 'nta_name', 'state',\n",
       "       'trnk_wire', 'y_sp', 'brnch_othe', 'root_grate', 'tree_id', 'steward',\n",
       "       'spc_common', 'trnk_other', 'x_sp', 'brnch_ligh', 'problems',\n",
       "       'longitude', 'boro_ct', 'zip_city', 'spc_latin', 'stump_diam',\n",
       "       'boroname', 'st_senate', 'user_type', 'status', 'brnch_shoe',\n",
       "       'curb_loc', 'cncldist', 'guards', 'st_assem', 'cb_num', 'address',\n",
       "       'sidewalk', 'root_other', 'created_at', 'borocode', 'block_id',\n",
       "       'trnk_light', 'tree_dbh', 'root_stone', 'geometry'],\n",
       "      dtype='object')"
      ]
     },
     "execution_count": 11,
     "metadata": {},
     "output_type": "execute_result"
    }
   ],
   "source": [
    "nyc_trees.columns"
   ]
  },
  {
   "cell_type": "code",
   "execution_count": 12,
   "id": "dcb2ff08",
   "metadata": {},
   "outputs": [
    {
     "data": {
      "text/plain": [
       "0    4\n",
       "1    4\n",
       "2    3\n",
       "3    3\n",
       "4    3\n",
       "Name: borocode, dtype: object"
      ]
     },
     "execution_count": 12,
     "metadata": {},
     "output_type": "execute_result"
    }
   ],
   "source": [
    "nyc_trees['borocode'].head()"
   ]
  },
  {
   "cell_type": "code",
   "execution_count": 13,
   "id": "974e87cb",
   "metadata": {},
   "outputs": [],
   "source": [
    "nyc_trees['borocode'] = nyc_trees['borocode'].astype(\"int64\")"
   ]
  },
  {
   "cell_type": "code",
   "execution_count": 14,
   "id": "379eb28c",
   "metadata": {},
   "outputs": [
    {
     "data": {
      "text/html": [
       "<div>\n",
       "<style scoped>\n",
       "    .dataframe tbody tr th:only-of-type {\n",
       "        vertical-align: middle;\n",
       "    }\n",
       "\n",
       "    .dataframe tbody tr th {\n",
       "        vertical-align: top;\n",
       "    }\n",
       "\n",
       "    .dataframe thead th {\n",
       "        text-align: right;\n",
       "    }\n",
       "</style>\n",
       "<table border=\"1\" class=\"dataframe\">\n",
       "  <thead>\n",
       "    <tr style=\"text-align: right;\">\n",
       "      <th></th>\n",
       "      <th>BoroCode</th>\n",
       "      <th>BoroName</th>\n",
       "      <th>Shape_Leng</th>\n",
       "      <th>Shape_Area</th>\n",
       "      <th>geometry</th>\n",
       "    </tr>\n",
       "  </thead>\n",
       "  <tbody>\n",
       "    <tr>\n",
       "      <th>0</th>\n",
       "      <td>5</td>\n",
       "      <td>Staten Island</td>\n",
       "      <td>330470.010332</td>\n",
       "      <td>1.623820e+09</td>\n",
       "      <td>MULTIPOLYGON (((970217.022 145643.332, 970227....</td>\n",
       "    </tr>\n",
       "    <tr>\n",
       "      <th>1</th>\n",
       "      <td>4</td>\n",
       "      <td>Queens</td>\n",
       "      <td>896344.047763</td>\n",
       "      <td>3.045213e+09</td>\n",
       "      <td>MULTIPOLYGON (((1029606.077 156073.814, 102957...</td>\n",
       "    </tr>\n",
       "    <tr>\n",
       "      <th>2</th>\n",
       "      <td>3</td>\n",
       "      <td>Brooklyn</td>\n",
       "      <td>741080.523166</td>\n",
       "      <td>1.937479e+09</td>\n",
       "      <td>MULTIPOLYGON (((1021176.479 151374.797, 102100...</td>\n",
       "    </tr>\n",
       "    <tr>\n",
       "      <th>3</th>\n",
       "      <td>1</td>\n",
       "      <td>Manhattan</td>\n",
       "      <td>359299.096471</td>\n",
       "      <td>6.364715e+08</td>\n",
       "      <td>MULTIPOLYGON (((981219.056 188655.316, 980940....</td>\n",
       "    </tr>\n",
       "    <tr>\n",
       "      <th>4</th>\n",
       "      <td>2</td>\n",
       "      <td>Bronx</td>\n",
       "      <td>464392.991824</td>\n",
       "      <td>1.186925e+09</td>\n",
       "      <td>MULTIPOLYGON (((1012821.806 229228.265, 101278...</td>\n",
       "    </tr>\n",
       "  </tbody>\n",
       "</table>\n",
       "</div>"
      ],
      "text/plain": [
       "   BoroCode       BoroName     Shape_Leng    Shape_Area  \\\n",
       "0         5  Staten Island  330470.010332  1.623820e+09   \n",
       "1         4         Queens  896344.047763  3.045213e+09   \n",
       "2         3       Brooklyn  741080.523166  1.937479e+09   \n",
       "3         1      Manhattan  359299.096471  6.364715e+08   \n",
       "4         2          Bronx  464392.991824  1.186925e+09   \n",
       "\n",
       "                                            geometry  \n",
       "0  MULTIPOLYGON (((970217.022 145643.332, 970227....  \n",
       "1  MULTIPOLYGON (((1029606.077 156073.814, 102957...  \n",
       "2  MULTIPOLYGON (((1021176.479 151374.797, 102100...  \n",
       "3  MULTIPOLYGON (((981219.056 188655.316, 980940....  \n",
       "4  MULTIPOLYGON (((1012821.806 229228.265, 101278...  "
      ]
     },
     "execution_count": 14,
     "metadata": {},
     "output_type": "execute_result"
    }
   ],
   "source": [
    "boros = geopandas.read_file(geodatasets.get_path(\"nybb\"))\n",
    "boros.head()"
   ]
  },
  {
   "cell_type": "code",
   "execution_count": 15,
   "id": "ddec91eb",
   "metadata": {},
   "outputs": [],
   "source": [
    "# TODO join boros and nyc_trees on boros,BoroCode and nyc_trees,borocode"
   ]
  },
  {
   "cell_type": "code",
   "execution_count": 16,
   "id": "9fb8c6cc",
   "metadata": {},
   "outputs": [
    {
     "data": {
      "text/plain": [
       "<Projected CRS: EPSG:2263>\n",
       "Name: NAD83 / New York Long Island (ftUS)\n",
       "Axis Info [cartesian]:\n",
       "- X[east]: Easting (US survey foot)\n",
       "- Y[north]: Northing (US survey foot)\n",
       "Area of Use:\n",
       "- name: United States (USA) - New York - counties of Bronx; Kings; Nassau; New York; Queens; Richmond; Suffolk.\n",
       "- bounds: (-74.26, 40.47, -71.8, 41.3)\n",
       "Coordinate Operation:\n",
       "- name: SPCS83 New York Long Island zone (US Survey feet)\n",
       "- method: Lambert Conic Conformal (2SP)\n",
       "Datum: North American Datum 1983\n",
       "- Ellipsoid: GRS 1980\n",
       "- Prime Meridian: Greenwich"
      ]
     },
     "execution_count": 16,
     "metadata": {},
     "output_type": "execute_result"
    }
   ],
   "source": [
    "boros.crs"
   ]
  },
  {
   "cell_type": "code",
   "execution_count": 17,
   "id": "3151b2b5",
   "metadata": {},
   "outputs": [
    {
     "data": {
      "text/plain": [
       "<Geographic 2D CRS: EPSG:4326>\n",
       "Name: WGS 84\n",
       "Axis Info [ellipsoidal]:\n",
       "- Lat[north]: Geodetic latitude (degree)\n",
       "- Lon[east]: Geodetic longitude (degree)\n",
       "Area of Use:\n",
       "- name: World.\n",
       "- bounds: (-180.0, -90.0, 180.0, 90.0)\n",
       "Datum: World Geodetic System 1984 ensemble\n",
       "- Ellipsoid: WGS 84\n",
       "- Prime Meridian: Greenwich"
      ]
     },
     "execution_count": 17,
     "metadata": {},
     "output_type": "execute_result"
    }
   ],
   "source": [
    "nyc_trees.crs"
   ]
  },
  {
   "cell_type": "code",
   "execution_count": 18,
   "id": "9b8d5693",
   "metadata": {},
   "outputs": [],
   "source": [
    "# going to change the crs of boros since it is smaller\n",
    "boros = boros.to_crs(nyc_trees.crs)"
   ]
  },
  {
   "cell_type": "code",
   "execution_count": 19,
   "id": "18b325e6",
   "metadata": {},
   "outputs": [
    {
     "data": {
      "text/plain": [
       "<Geographic 2D CRS: EPSG:4326>\n",
       "Name: WGS 84\n",
       "Axis Info [ellipsoidal]:\n",
       "- Lat[north]: Geodetic latitude (degree)\n",
       "- Lon[east]: Geodetic longitude (degree)\n",
       "Area of Use:\n",
       "- name: World.\n",
       "- bounds: (-180.0, -90.0, 180.0, 90.0)\n",
       "Datum: World Geodetic System 1984 ensemble\n",
       "- Ellipsoid: WGS 84\n",
       "- Prime Meridian: Greenwich"
      ]
     },
     "execution_count": 19,
     "metadata": {},
     "output_type": "execute_result"
    }
   ],
   "source": [
    "boros.crs"
   ]
  },
  {
   "cell_type": "code",
   "execution_count": 20,
   "id": "28cd8995",
   "metadata": {},
   "outputs": [],
   "source": [
    "boro_names = boros[['BoroCode', 'BoroName']]"
   ]
  },
  {
   "cell_type": "code",
   "execution_count": 21,
   "id": "9382db00",
   "metadata": {},
   "outputs": [],
   "source": [
    "boro_names = boro_names.rename(columns={'BoroCode': 'borocode'})"
   ]
  },
  {
   "cell_type": "code",
   "execution_count": 22,
   "id": "39a0504e",
   "metadata": {},
   "outputs": [],
   "source": [
    "# can we use `join()` instead of merge?\n",
    "nyc_trees = nyc_trees.merge(boro_names, on='borocode')"
   ]
  },
  {
   "cell_type": "code",
   "execution_count": 23,
   "id": "b8ff4a14",
   "metadata": {},
   "outputs": [
    {
     "data": {
      "text/plain": [
       "0    Queens\n",
       "1    Queens\n",
       "2    Queens\n",
       "3    Queens\n",
       "4    Queens\n",
       "Name: BoroName, dtype: object"
      ]
     },
     "execution_count": 23,
     "metadata": {},
     "output_type": "execute_result"
    }
   ],
   "source": [
    "nyc_trees['BoroName'].head()"
   ]
  },
  {
   "cell_type": "markdown",
   "id": "e46d8d9f",
   "metadata": {},
   "source": [
    "### Which Borough Has the Most Trees?"
   ]
  },
  {
   "cell_type": "code",
   "execution_count": 24,
   "id": "b33b40be",
   "metadata": {},
   "outputs": [],
   "source": [
    "tree_count = nyc_trees.groupby(['BoroName']).sum()"
   ]
  },
  {
   "cell_type": "code",
   "execution_count": 25,
   "id": "d3b56dbc",
   "metadata": {},
   "outputs": [],
   "source": [
    "tree_count = tree_count.rename(columns={'borocode': 'count'})"
   ]
  },
  {
   "cell_type": "code",
   "execution_count": 26,
   "id": "d702af46",
   "metadata": {},
   "outputs": [
    {
     "data": {
      "text/html": [
       "<div>\n",
       "<style scoped>\n",
       "    .dataframe tbody tr th:only-of-type {\n",
       "        vertical-align: middle;\n",
       "    }\n",
       "\n",
       "    .dataframe tbody tr th {\n",
       "        vertical-align: top;\n",
       "    }\n",
       "\n",
       "    .dataframe thead th {\n",
       "        text-align: right;\n",
       "    }\n",
       "</style>\n",
       "<table border=\"1\" class=\"dataframe\">\n",
       "  <thead>\n",
       "    <tr style=\"text-align: right;\">\n",
       "      <th></th>\n",
       "      <th>count</th>\n",
       "    </tr>\n",
       "    <tr>\n",
       "      <th>BoroName</th>\n",
       "      <th></th>\n",
       "    </tr>\n",
       "  </thead>\n",
       "  <tbody>\n",
       "    <tr>\n",
       "      <th>Manhattan</th>\n",
       "      <td>65423</td>\n",
       "    </tr>\n",
       "    <tr>\n",
       "      <th>Bronx</th>\n",
       "      <td>170406</td>\n",
       "    </tr>\n",
       "    <tr>\n",
       "      <th>Staten Island</th>\n",
       "      <td>526590</td>\n",
       "    </tr>\n",
       "    <tr>\n",
       "      <th>Brooklyn</th>\n",
       "      <td>531879</td>\n",
       "    </tr>\n",
       "    <tr>\n",
       "      <th>Queens</th>\n",
       "      <td>1002204</td>\n",
       "    </tr>\n",
       "  </tbody>\n",
       "</table>\n",
       "</div>"
      ],
      "text/plain": [
       "                 count\n",
       "BoroName              \n",
       "Manhattan        65423\n",
       "Bronx           170406\n",
       "Staten Island   526590\n",
       "Brooklyn        531879\n",
       "Queens         1002204"
      ]
     },
     "execution_count": 26,
     "metadata": {},
     "output_type": "execute_result"
    }
   ],
   "source": [
    "tree_count.sort_values(by=['count'])"
   ]
  },
  {
   "cell_type": "code",
   "execution_count": 27,
   "id": "c9e4ae86",
   "metadata": {},
   "outputs": [],
   "source": [
    "# get the geometries back onto tree_count\n",
    "tree_count = boros.merge(tree_count, on='BoroName')"
   ]
  },
  {
   "cell_type": "code",
   "execution_count": 28,
   "id": "1511bc5c",
   "metadata": {},
   "outputs": [
    {
     "data": {
      "image/png": "[encoded data removed]",
      "text/plain": [
       "<Figure size 432x288 with 1 Axes>"
      ]
     },
     "metadata": {
      "needs_background": "light"
     },
     "output_type": "display_data"
    }
   ],
   "source": [
    "# TODO: display the above as a chloropleth map\n",
    "base = boros.plot(color='white', edgecolor='blue')"
   ]
  },
  {
   "cell_type": "code",
   "execution_count": 29,
   "id": "3d576e61",
   "metadata": {
    "scrolled": true
   },
   "outputs": [
    {
     "data": {
      "text/plain": [
       "<AxesSubplot:>"
      ]
     },
     "execution_count": 29,
     "metadata": {},
     "output_type": "execute_result"
    },
    {
     "data": {
      "image/png": "[encoded data removed]",
      "text/plain": [
       "<Figure size 432x288 with 2 Axes>"
      ]
     },
     "metadata": {
      "needs_background": "light"
     },
     "output_type": "display_data"
    }
   ],
   "source": [
    "tree_count.plot(column=\"count\",  legend=True)"
   ]
  },
  {
   "cell_type": "markdown",
   "id": "a1cc213c",
   "metadata": {},
   "source": [
    "## What is the area of each borough?\n",
    "\n",
    "And which borough has the highest *density* of trees?"
   ]
  },
  {
   "cell_type": "code",
   "execution_count": 33,
   "id": "2cc38279",
   "metadata": {},
   "outputs": [],
   "source": [
    "# we need to convert Geometry column back to a geographic CRS to be able to get areas\n",
    "boros_geographic = boros.to_crs(\"EPSG:2263\")"
   ]
  },
  {
   "cell_type": "markdown",
   "id": "b6d7d17a",
   "metadata": {},
   "source": [
    "What units will the area be in?\n",
    "- you can find out in this case from the `.name` of the `.crs` object\n",
    "- in this case the name tells us the units are feet (ft)\n",
    "- when we take the area, we will get feet squared (ft^2)"
   ]
  },
  {
   "cell_type": "code",
   "execution_count": 37,
   "id": "3f8ace27",
   "metadata": {},
   "outputs": [
    {
     "data": {
      "text/plain": [
       "'NAD83 / New York Long Island (ftUS)'"
      ]
     },
     "execution_count": 37,
     "metadata": {},
     "output_type": "execute_result"
    }
   ],
   "source": [
    "boros_geographic.crs.name"
   ]
  },
  {
   "cell_type": "code",
   "execution_count": 38,
   "id": "a0d45208",
   "metadata": {
    "scrolled": true
   },
   "outputs": [
    {
     "data": {
      "text/plain": [
       "0    1.623822e+09\n",
       "1    3.045214e+09\n",
       "2    1.937478e+09\n",
       "3    6.364712e+08\n",
       "4    1.186926e+09\n",
       "dtype: float64"
      ]
     },
     "execution_count": 38,
     "metadata": {},
     "output_type": "execute_result"
    }
   ],
   "source": [
    "boros_geographic.geometry.area"
   ]
  },
  {
   "cell_type": "code",
   "execution_count": 39,
   "id": "adce8322",
   "metadata": {},
   "outputs": [
    {
     "data": {
      "text/html": [
       "<div>\n",
       "<style scoped>\n",
       "    .dataframe tbody tr th:only-of-type {\n",
       "        vertical-align: middle;\n",
       "    }\n",
       "\n",
       "    .dataframe tbody tr th {\n",
       "        vertical-align: top;\n",
       "    }\n",
       "\n",
       "    .dataframe thead th {\n",
       "        text-align: right;\n",
       "    }\n",
       "</style>\n",
       "<table border=\"1\" class=\"dataframe\">\n",
       "  <thead>\n",
       "    <tr style=\"text-align: right;\">\n",
       "      <th></th>\n",
       "      <th>BoroCode</th>\n",
       "      <th>BoroName</th>\n",
       "      <th>Shape_Leng</th>\n",
       "      <th>Shape_Area</th>\n",
       "      <th>geometry</th>\n",
       "    </tr>\n",
       "  </thead>\n",
       "  <tbody>\n",
       "    <tr>\n",
       "      <th>0</th>\n",
       "      <td>5</td>\n",
       "      <td>Staten Island</td>\n",
       "      <td>330470.010332</td>\n",
       "      <td>1.623820e+09</td>\n",
       "      <td>MULTIPOLYGON (((970217.022 145643.332, 970227....</td>\n",
       "    </tr>\n",
       "    <tr>\n",
       "      <th>1</th>\n",
       "      <td>4</td>\n",
       "      <td>Queens</td>\n",
       "      <td>896344.047763</td>\n",
       "      <td>3.045213e+09</td>\n",
       "      <td>MULTIPOLYGON (((1029606.077 156073.814, 102957...</td>\n",
       "    </tr>\n",
       "    <tr>\n",
       "      <th>2</th>\n",
       "      <td>3</td>\n",
       "      <td>Brooklyn</td>\n",
       "      <td>741080.523166</td>\n",
       "      <td>1.937479e+09</td>\n",
       "      <td>MULTIPOLYGON (((1021176.479 151374.797, 102100...</td>\n",
       "    </tr>\n",
       "    <tr>\n",
       "      <th>3</th>\n",
       "      <td>1</td>\n",
       "      <td>Manhattan</td>\n",
       "      <td>359299.096471</td>\n",
       "      <td>6.364715e+08</td>\n",
       "      <td>MULTIPOLYGON (((981219.056 188655.316, 980940....</td>\n",
       "    </tr>\n",
       "    <tr>\n",
       "      <th>4</th>\n",
       "      <td>2</td>\n",
       "      <td>Bronx</td>\n",
       "      <td>464392.991824</td>\n",
       "      <td>1.186925e+09</td>\n",
       "      <td>MULTIPOLYGON (((1012821.806 229228.265, 101278...</td>\n",
       "    </tr>\n",
       "  </tbody>\n",
       "</table>\n",
       "</div>"
      ],
      "text/plain": [
       "   BoroCode       BoroName     Shape_Leng    Shape_Area  \\\n",
       "0         5  Staten Island  330470.010332  1.623820e+09   \n",
       "1         4         Queens  896344.047763  3.045213e+09   \n",
       "2         3       Brooklyn  741080.523166  1.937479e+09   \n",
       "3         1      Manhattan  359299.096471  6.364715e+08   \n",
       "4         2          Bronx  464392.991824  1.186925e+09   \n",
       "\n",
       "                                            geometry  \n",
       "0  MULTIPOLYGON (((970217.022 145643.332, 970227....  \n",
       "1  MULTIPOLYGON (((1029606.077 156073.814, 102957...  \n",
       "2  MULTIPOLYGON (((1021176.479 151374.797, 102100...  \n",
       "3  MULTIPOLYGON (((981219.056 188655.316, 980940....  \n",
       "4  MULTIPOLYGON (((1012821.806 229228.265, 101278...  "
      ]
     },
     "execution_count": 39,
     "metadata": {},
     "output_type": "execute_result"
    }
   ],
   "source": [
    "# add tree count to boros_geographic\n",
    "# create a new gdf with BoroName, area, count, \n",
    "# how to merge in the tree_count['count'] based on BoroName?\n",
    "# boros_geographic['tree_count'] = tree_count['count']"
   ]
  },
  {
   "cell_type": "code",
   "execution_count": null,
   "id": "96f6f118",
   "metadata": {},
   "outputs": [],
   "source": []
  }
 ],
 "metadata": {
  "kernelspec": {
   "display_name": "Python 3 (ipykernel)",
   "language": "python",
   "name": "python3"
  },
  "language_info": {
   "codemirror_mode": {
    "name": "ipython",
    "version": 3
   },
   "file_extension": ".py",
   "mimetype": "text/x-python",
   "name": "python",
   "nbconvert_exporter": "python",
   "pygments_lexer": "ipython3",
   "version": "3.9.7"
  }
 },
 "nbformat": 4,
 "nbformat_minor": 5
}
