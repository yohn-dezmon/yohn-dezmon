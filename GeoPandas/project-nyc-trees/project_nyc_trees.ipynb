{
 "cells": [
  {
   "cell_type": "code",
   "execution_count": 3,
   "id": "81a0f833",
   "metadata": {},
   "outputs": [],
   "source": [
    "import geopandas\n",
    "import geodatasets"
   ]
  },
  {
   "cell_type": "code",
   "execution_count": 4,
   "id": "f5cfcef9",
   "metadata": {},
   "outputs": [],
   "source": [
    "# nyc_trees = geopandas.read_file(\"data/2015 Street Tree Census - Tree Data.geojson\")\n",
    "# note: you need to install pyarrow for this to work\n",
    "# nyc_trees = geopandas.read_parquet(\"data/nyc_trees.parquet\")"
   ]
  },
  {
   "cell_type": "code",
   "execution_count": 6,
   "id": "e0d1bbcf",
   "metadata": {},
   "outputs": [
    {
     "name": "stdout",
     "output_type": "stream",
     "text": [
      "Collecting pyarrow\n",
      "  Downloading pyarrow-13.0.0-cp311-cp311-macosx_10_14_x86_64.whl (25.8 MB)\n",
      "\u001b[2K     \u001b[38;2;114;156;31m━━━━━━━━━━━━━━━━━━━━━━━━━━━━━━━━━━━━━━━━\u001b[0m \u001b[32m25.8/25.8 MB\u001b[0m \u001b[31m10.5 MB/s\u001b[0m eta \u001b[36m0:00:00\u001b[0mm eta \u001b[36m0:00:01\u001b[0m[36m0:00:01\u001b[0m\n",
      "\u001b[?25hRequirement already satisfied: numpy>=1.16.6 in /usr/local/lib/python3.11/site-packages (from pyarrow) (1.25.2)\n",
      "Installing collected packages: pyarrow\n",
      "Successfully installed pyarrow-13.0.0\n",
      "\n",
      "\u001b[1m[\u001b[0m\u001b[34;49mnotice\u001b[0m\u001b[1;39;49m]\u001b[0m\u001b[39;49m A new release of pip is available: \u001b[0m\u001b[31;49m23.0.1\u001b[0m\u001b[39;49m -> \u001b[0m\u001b[32;49m23.2.1\u001b[0m\n",
      "\u001b[1m[\u001b[0m\u001b[34;49mnotice\u001b[0m\u001b[1;39;49m]\u001b[0m\u001b[39;49m To update, run: \u001b[0m\u001b[32;49mpython3.11 -m pip install --upgrade pip\u001b[0m\n"
     ]
    }
   ],
   "source": [
    "import sys \n",
    "!{sys.executable} -m pip install pyarrow"
   ]
  },
  {
   "cell_type": "code",
   "execution_count": 7,
   "id": "a5d93058",
   "metadata": {},
   "outputs": [],
   "source": [
    "# to_parquet is not supported in production yet.\n",
    "# using parquet reduces the read of the file to < 1 min.\n",
    "# without using parquet, read_file() takes ~6 min\n",
    "nyc_trees.to_parquet('data/nyc_trees.parquet')"
   ]
  },
  {
   "cell_type": "code",
   "execution_count": null,
   "id": "210b134d",
   "metadata": {},
   "outputs": [],
   "source": [
    "# TODO: Split up nyc_trees into bk_trees, mh_trees, queens_trees, si_trees, bronx_trees"
   ]
  },
  {
   "cell_type": "code",
   "execution_count": null,
   "id": "8ba2c485",
   "metadata": {},
   "outputs": [],
   "source": [
    "nyc_trees.head()"
   ]
  },
  {
   "cell_type": "code",
   "execution_count": null,
   "id": "b744ad8e",
   "metadata": {},
   "outputs": [],
   "source": [
    "nyc_trees.columns"
   ]
  },
  {
   "cell_type": "code",
   "execution_count": null,
   "id": "dcb2ff08",
   "metadata": {},
   "outputs": [],
   "source": [
    "nyc_trees['borocode'].head()"
   ]
  },
  {
   "cell_type": "code",
   "execution_count": null,
   "id": "974e87cb",
   "metadata": {},
   "outputs": [],
   "source": [
    "nyc_trees['borocode'] = nyc_trees['borocode'].astype(\"int64\")"
   ]
  },
  {
   "cell_type": "code",
   "execution_count": null,
   "id": "379eb28c",
   "metadata": {},
   "outputs": [],
   "source": [
    "boros = geopandas.read_file(geodatasets.get_path(\"nybb\"))\n",
    "boros.head()"
   ]
  },
  {
   "cell_type": "code",
   "execution_count": null,
   "id": "ddec91eb",
   "metadata": {},
   "outputs": [],
   "source": [
    "# TODO join boros and nyc_trees on boros,BoroCode and nyc_trees,borocode"
   ]
  },
  {
   "cell_type": "code",
   "execution_count": null,
   "id": "9fb8c6cc",
   "metadata": {},
   "outputs": [],
   "source": [
    "boros.crs"
   ]
  },
  {
   "cell_type": "code",
   "execution_count": null,
   "id": "3151b2b5",
   "metadata": {},
   "outputs": [],
   "source": [
    "nyc_trees.crs"
   ]
  },
  {
   "cell_type": "code",
   "execution_count": null,
   "id": "9b8d5693",
   "metadata": {},
   "outputs": [],
   "source": [
    "# going to change the crs of boros since it is smaller\n",
    "boros = boros.to_crs(nyc_trees.crs)"
   ]
  },
  {
   "cell_type": "code",
   "execution_count": null,
   "id": "18b325e6",
   "metadata": {},
   "outputs": [],
   "source": [
    "boros.crs"
   ]
  },
  {
   "cell_type": "code",
   "execution_count": null,
   "id": "28cd8995",
   "metadata": {},
   "outputs": [],
   "source": [
    "boro_names = boros[['BoroCode', 'BoroName']]"
   ]
  },
  {
   "cell_type": "code",
   "execution_count": null,
   "id": "9382db00",
   "metadata": {},
   "outputs": [],
   "source": [
    "boro_names = boro_names.rename(columns={'BoroCode': 'borocode'})"
   ]
  },
  {
   "cell_type": "code",
   "execution_count": null,
   "id": "39a0504e",
   "metadata": {},
   "outputs": [],
   "source": [
    "# can we use `join()` instead of merge?\n",
    "nyc_trees = nyc_trees.merge(boro_names, on='borocode')"
   ]
  },
  {
   "cell_type": "code",
   "execution_count": null,
   "id": "b8ff4a14",
   "metadata": {},
   "outputs": [],
   "source": [
    "nyc_trees['BoroName'].head()"
   ]
  },
  {
   "cell_type": "markdown",
   "id": "e46d8d9f",
   "metadata": {},
   "source": [
    "### Which Borough Has the Most Trees?"
   ]
  },
  {
   "cell_type": "code",
   "execution_count": null,
   "id": "b33b40be",
   "metadata": {},
   "outputs": [],
   "source": [
    "tree_count = nyc_trees.groupby(['BoroName']).sum()"
   ]
  },
  {
   "cell_type": "code",
   "execution_count": null,
   "id": "d3b56dbc",
   "metadata": {},
   "outputs": [],
   "source": [
    "tree_count = tree_count.rename(columns={'borocode': 'count'})"
   ]
  },
  {
   "cell_type": "code",
   "execution_count": null,
   "id": "d702af46",
   "metadata": {},
   "outputs": [],
   "source": [
    "tree_count.sort_values(by=['count'])"
   ]
  },
  {
   "cell_type": "code",
   "execution_count": null,
   "id": "c9e4ae86",
   "metadata": {},
   "outputs": [],
   "source": [
    "# get the geometries back onto tree_count\n",
    "tree_count = boros.merge(tree_count, on='BoroName')"
   ]
  },
  {
   "cell_type": "code",
   "execution_count": null,
   "id": "1511bc5c",
   "metadata": {},
   "outputs": [],
   "source": [
    "# TODO: display the above as a chloropleth map\n",
    "base = boros.plot(color='white', edgecolor='blue')"
   ]
  },
  {
   "cell_type": "code",
   "execution_count": null,
   "id": "3d576e61",
   "metadata": {
    "scrolled": true
   },
   "outputs": [],
   "source": [
    "tree_count.plot(column=\"count\",  legend=True)"
   ]
  },
  {
   "cell_type": "markdown",
   "id": "73183d3f",
   "metadata": {},
   "source": [
    "## What is the area of each borough?\n",
    "\n",
    "And which borough has the highest *density* of trees?"
   ]
  },
  {
   "cell_type": "code",
   "execution_count": null,
   "id": "2cc38279",
   "metadata": {},
   "outputs": [],
   "source": [
    "# we need to convert Geometry column back to a geographic CRS to be able to get areas\n",
    "boros_geographic = boros.to_crs(\"EPSG:2263\")"
   ]
  },
  {
   "cell_type": "markdown",
   "id": "12f10a08",
   "metadata": {},
   "source": [
    "What units will the area be in?\n",
    "- you can find out in this case from the `.name` of the `.crs` object\n",
    "- in this case the name tells us the units are feet (ft)\n",
    "- when we take the area, we will get feet squared (ft^2)"
   ]
  },
  {
   "cell_type": "code",
   "execution_count": null,
   "id": "200f1c24",
   "metadata": {},
   "outputs": [],
   "source": [
    "boros_geographic.crs.name"
   ]
  },
  {
   "cell_type": "code",
   "execution_count": null,
   "id": "3a80f2c3",
   "metadata": {
    "scrolled": true
   },
   "outputs": [],
   "source": [
    "boros_geographic.geometry.area"
   ]
  },
  {
   "cell_type": "code",
   "execution_count": null,
   "id": "8e354c4e",
   "metadata": {},
   "outputs": [],
   "source": [
    "# add tree count to boros_geographic\n",
    "# create a new gdf with BoroName, area, count, \n",
    "# how to merge in the tree_count['count'] based on BoroName?\n",
    "# boros_geographic['tree_count'] = tree_count['count']"
   ]
  }
 ],
 "metadata": {
  "kernelspec": {
   "display_name": "Python 3 (ipykernel)",
   "language": "python",
   "name": "python3"
  },
  "language_info": {
   "codemirror_mode": {
    "name": "ipython",
    "version": 3
   },
   "file_extension": ".py",
   "mimetype": "text/x-python",
   "name": "python",
   "nbconvert_exporter": "python",
   "pygments_lexer": "ipython3",
   "version": "3.11.4"
  }
 },
 "nbformat": 4,
 "nbformat_minor": 5
}
