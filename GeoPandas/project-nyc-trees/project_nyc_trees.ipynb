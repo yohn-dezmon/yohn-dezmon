{
 "cells": [
  {
   "cell_type": "code",
   "execution_count": 4,
   "id": "81a0f833",
   "metadata": {},
   "outputs": [],
   "source": [
    "import geopandas"
   ]
  },
  {
   "cell_type": "code",
   "execution_count": 5,
   "id": "f5cfcef9",
   "metadata": {},
   "outputs": [],
   "source": [
    "nyc_trees = geopandas.read_file(\"data/2015 Street Tree Census - Tree Data.geojson\")"
   ]
  },
  {
   "cell_type": "code",
   "execution_count": 7,
   "id": "210b134d",
   "metadata": {},
   "outputs": [],
   "source": [
    "# TODO: Split up nyc_trees into bk_trees, mh_trees, queens_trees, si_trees, bronx_trees\n",
    "# it took ~10 minutes to load this data into memory"
   ]
  },
  {
   "cell_type": "code",
   "execution_count": 8,
   "id": "8ba2c485",
   "metadata": {},
   "outputs": [
    {
     "data": {
      "text/html": [
       "<div>\n",
       "<style scoped>\n",
       "    .dataframe tbody tr th:only-of-type {\n",
       "        vertical-align: middle;\n",
       "    }\n",
       "\n",
       "    .dataframe tbody tr th {\n",
       "        vertical-align: top;\n",
       "    }\n",
       "\n",
       "    .dataframe thead th {\n",
       "        text-align: right;\n",
       "    }\n",
       "</style>\n",
       "<table border=\"1\" class=\"dataframe\">\n",
       "  <thead>\n",
       "    <tr style=\"text-align: right;\">\n",
       "      <th></th>\n",
       "      <th>nta</th>\n",
       "      <th>health</th>\n",
       "      <th>zipcode</th>\n",
       "      <th>latitude</th>\n",
       "      <th>nta_name</th>\n",
       "      <th>state</th>\n",
       "      <th>trnk_wire</th>\n",
       "      <th>y_sp</th>\n",
       "      <th>brnch_othe</th>\n",
       "      <th>root_grate</th>\n",
       "      <th>...</th>\n",
       "      <th>address</th>\n",
       "      <th>sidewalk</th>\n",
       "      <th>root_other</th>\n",
       "      <th>created_at</th>\n",
       "      <th>borocode</th>\n",
       "      <th>block_id</th>\n",
       "      <th>trnk_light</th>\n",
       "      <th>tree_dbh</th>\n",
       "      <th>root_stone</th>\n",
       "      <th>geometry</th>\n",
       "    </tr>\n",
       "  </thead>\n",
       "  <tbody>\n",
       "    <tr>\n",
       "      <th>0</th>\n",
       "      <td>QN17</td>\n",
       "      <td>Fair</td>\n",
       "      <td>11375</td>\n",
       "      <td>40.72309177</td>\n",
       "      <td>Forest Hills</td>\n",
       "      <td>New York</td>\n",
       "      <td>No</td>\n",
       "      <td>202756.768749</td>\n",
       "      <td>No</td>\n",
       "      <td>No</td>\n",
       "      <td>...</td>\n",
       "      <td>108-005 70 AVENUE</td>\n",
       "      <td>NoDamage</td>\n",
       "      <td>No</td>\n",
       "      <td>08/27/2015</td>\n",
       "      <td>4</td>\n",
       "      <td>348711</td>\n",
       "      <td>No</td>\n",
       "      <td>3</td>\n",
       "      <td>No</td>\n",
       "      <td>POINT (-73.84422 40.72309)</td>\n",
       "    </tr>\n",
       "    <tr>\n",
       "      <th>1</th>\n",
       "      <td>QN49</td>\n",
       "      <td>Fair</td>\n",
       "      <td>11357</td>\n",
       "      <td>40.79411067</td>\n",
       "      <td>Whitestone</td>\n",
       "      <td>New York</td>\n",
       "      <td>No</td>\n",
       "      <td>228644.837379</td>\n",
       "      <td>No</td>\n",
       "      <td>No</td>\n",
       "      <td>...</td>\n",
       "      <td>147-074 7 AVENUE</td>\n",
       "      <td>Damage</td>\n",
       "      <td>No</td>\n",
       "      <td>09/03/2015</td>\n",
       "      <td>4</td>\n",
       "      <td>315986</td>\n",
       "      <td>No</td>\n",
       "      <td>21</td>\n",
       "      <td>Yes</td>\n",
       "      <td>POINT (-73.81868 40.79411)</td>\n",
       "    </tr>\n",
       "    <tr>\n",
       "      <th>2</th>\n",
       "      <td>BK90</td>\n",
       "      <td>Good</td>\n",
       "      <td>11211</td>\n",
       "      <td>40.71758074</td>\n",
       "      <td>East Williamsburg</td>\n",
       "      <td>New York</td>\n",
       "      <td>No</td>\n",
       "      <td>200716.891267</td>\n",
       "      <td>No</td>\n",
       "      <td>No</td>\n",
       "      <td>...</td>\n",
       "      <td>390 MORGAN AVENUE</td>\n",
       "      <td>Damage</td>\n",
       "      <td>No</td>\n",
       "      <td>09/05/2015</td>\n",
       "      <td>3</td>\n",
       "      <td>218365</td>\n",
       "      <td>No</td>\n",
       "      <td>3</td>\n",
       "      <td>No</td>\n",
       "      <td>POINT (-73.93661 40.71758)</td>\n",
       "    </tr>\n",
       "    <tr>\n",
       "      <th>3</th>\n",
       "      <td>BK90</td>\n",
       "      <td>Good</td>\n",
       "      <td>11211</td>\n",
       "      <td>40.71353749</td>\n",
       "      <td>East Williamsburg</td>\n",
       "      <td>New York</td>\n",
       "      <td>No</td>\n",
       "      <td>199244.253136</td>\n",
       "      <td>No</td>\n",
       "      <td>No</td>\n",
       "      <td>...</td>\n",
       "      <td>1027 GRAND STREET</td>\n",
       "      <td>Damage</td>\n",
       "      <td>No</td>\n",
       "      <td>09/05/2015</td>\n",
       "      <td>3</td>\n",
       "      <td>217969</td>\n",
       "      <td>No</td>\n",
       "      <td>10</td>\n",
       "      <td>Yes</td>\n",
       "      <td>POINT (-73.93446 40.71354)</td>\n",
       "    </tr>\n",
       "    <tr>\n",
       "      <th>4</th>\n",
       "      <td>BK37</td>\n",
       "      <td>Good</td>\n",
       "      <td>11215</td>\n",
       "      <td>40.66677776</td>\n",
       "      <td>Park Slope-Gowanus</td>\n",
       "      <td>New York</td>\n",
       "      <td>No</td>\n",
       "      <td>182202.425999</td>\n",
       "      <td>No</td>\n",
       "      <td>No</td>\n",
       "      <td>...</td>\n",
       "      <td>603 6 STREET</td>\n",
       "      <td>Damage</td>\n",
       "      <td>No</td>\n",
       "      <td>08/30/2015</td>\n",
       "      <td>3</td>\n",
       "      <td>223043</td>\n",
       "      <td>No</td>\n",
       "      <td>21</td>\n",
       "      <td>Yes</td>\n",
       "      <td>POINT (-73.97598 40.66678)</td>\n",
       "    </tr>\n",
       "  </tbody>\n",
       "</table>\n",
       "<p>5 rows × 42 columns</p>\n",
       "</div>"
      ],
      "text/plain": [
       "    nta health zipcode     latitude            nta_name     state trnk_wire  \\\n",
       "0  QN17   Fair   11375  40.72309177        Forest Hills  New York        No   \n",
       "1  QN49   Fair   11357  40.79411067          Whitestone  New York        No   \n",
       "2  BK90   Good   11211  40.71758074   East Williamsburg  New York        No   \n",
       "3  BK90   Good   11211  40.71353749   East Williamsburg  New York        No   \n",
       "4  BK37   Good   11215  40.66677776  Park Slope-Gowanus  New York        No   \n",
       "\n",
       "            y_sp brnch_othe root_grate  ...            address  sidewalk  \\\n",
       "0  202756.768749         No         No  ...  108-005 70 AVENUE  NoDamage   \n",
       "1  228644.837379         No         No  ...   147-074 7 AVENUE    Damage   \n",
       "2  200716.891267         No         No  ...  390 MORGAN AVENUE    Damage   \n",
       "3  199244.253136         No         No  ...  1027 GRAND STREET    Damage   \n",
       "4  182202.425999         No         No  ...       603 6 STREET    Damage   \n",
       "\n",
       "  root_other  created_at borocode block_id trnk_light tree_dbh root_stone  \\\n",
       "0         No  08/27/2015        4   348711         No        3         No   \n",
       "1         No  09/03/2015        4   315986         No       21        Yes   \n",
       "2         No  09/05/2015        3   218365         No        3         No   \n",
       "3         No  09/05/2015        3   217969         No       10        Yes   \n",
       "4         No  08/30/2015        3   223043         No       21        Yes   \n",
       "\n",
       "                     geometry  \n",
       "0  POINT (-73.84422 40.72309)  \n",
       "1  POINT (-73.81868 40.79411)  \n",
       "2  POINT (-73.93661 40.71758)  \n",
       "3  POINT (-73.93446 40.71354)  \n",
       "4  POINT (-73.97598 40.66678)  \n",
       "\n",
       "[5 rows x 42 columns]"
      ]
     },
     "execution_count": 8,
     "metadata": {},
     "output_type": "execute_result"
    }
   ],
   "source": [
    "nyc_trees.head()"
   ]
  },
  {
   "cell_type": "code",
   "execution_count": 10,
   "id": "b744ad8e",
   "metadata": {},
   "outputs": [
    {
     "data": {
      "text/plain": [
       "Index(['nta', 'health', 'zipcode', 'latitude', 'nta_name', 'state',\n",
       "       'trnk_wire', 'y_sp', 'brnch_othe', 'root_grate', 'tree_id', 'steward',\n",
       "       'spc_common', 'trnk_other', 'x_sp', 'brnch_ligh', 'problems',\n",
       "       'longitude', 'boro_ct', 'zip_city', 'spc_latin', 'stump_diam',\n",
       "       'boroname', 'st_senate', 'user_type', 'status', 'brnch_shoe',\n",
       "       'curb_loc', 'cncldist', 'guards', 'st_assem', 'cb_num', 'address',\n",
       "       'sidewalk', 'root_other', 'created_at', 'borocode', 'block_id',\n",
       "       'trnk_light', 'tree_dbh', 'root_stone', 'geometry'],\n",
       "      dtype='object')"
      ]
     },
     "execution_count": 10,
     "metadata": {},
     "output_type": "execute_result"
    }
   ],
   "source": [
    "nyc_trees.columns"
   ]
  },
  {
   "cell_type": "code",
   "execution_count": 12,
   "id": "dcb2ff08",
   "metadata": {},
   "outputs": [
    {
     "data": {
      "text/plain": [
       "0    4\n",
       "1    4\n",
       "2    3\n",
       "3    3\n",
       "4    3\n",
       "Name: borocode, dtype: object"
      ]
     },
     "execution_count": 12,
     "metadata": {},
     "output_type": "execute_result"
    }
   ],
   "source": [
    "nyc_trees['borocode'].head()"
   ]
  },
  {
   "cell_type": "code",
   "execution_count": 13,
   "id": "379eb28c",
   "metadata": {},
   "outputs": [
    {
     "data": {
      "text/html": [
       "<div>\n",
       "<style scoped>\n",
       "    .dataframe tbody tr th:only-of-type {\n",
       "        vertical-align: middle;\n",
       "    }\n",
       "\n",
       "    .dataframe tbody tr th {\n",
       "        vertical-align: top;\n",
       "    }\n",
       "\n",
       "    .dataframe thead th {\n",
       "        text-align: right;\n",
       "    }\n",
       "</style>\n",
       "<table border=\"1\" class=\"dataframe\">\n",
       "  <thead>\n",
       "    <tr style=\"text-align: right;\">\n",
       "      <th></th>\n",
       "      <th>BoroCode</th>\n",
       "      <th>BoroName</th>\n",
       "      <th>Shape_Leng</th>\n",
       "      <th>Shape_Area</th>\n",
       "      <th>geometry</th>\n",
       "    </tr>\n",
       "  </thead>\n",
       "  <tbody>\n",
       "    <tr>\n",
       "      <th>0</th>\n",
       "      <td>5</td>\n",
       "      <td>Staten Island</td>\n",
       "      <td>330470.010332</td>\n",
       "      <td>1.623820e+09</td>\n",
       "      <td>MULTIPOLYGON (((970217.022 145643.332, 970227....</td>\n",
       "    </tr>\n",
       "    <tr>\n",
       "      <th>1</th>\n",
       "      <td>4</td>\n",
       "      <td>Queens</td>\n",
       "      <td>896344.047763</td>\n",
       "      <td>3.045213e+09</td>\n",
       "      <td>MULTIPOLYGON (((1029606.077 156073.814, 102957...</td>\n",
       "    </tr>\n",
       "    <tr>\n",
       "      <th>2</th>\n",
       "      <td>3</td>\n",
       "      <td>Brooklyn</td>\n",
       "      <td>741080.523166</td>\n",
       "      <td>1.937479e+09</td>\n",
       "      <td>MULTIPOLYGON (((1021176.479 151374.797, 102100...</td>\n",
       "    </tr>\n",
       "    <tr>\n",
       "      <th>3</th>\n",
       "      <td>1</td>\n",
       "      <td>Manhattan</td>\n",
       "      <td>359299.096471</td>\n",
       "      <td>6.364715e+08</td>\n",
       "      <td>MULTIPOLYGON (((981219.056 188655.316, 980940....</td>\n",
       "    </tr>\n",
       "    <tr>\n",
       "      <th>4</th>\n",
       "      <td>2</td>\n",
       "      <td>Bronx</td>\n",
       "      <td>464392.991824</td>\n",
       "      <td>1.186925e+09</td>\n",
       "      <td>MULTIPOLYGON (((1012821.806 229228.265, 101278...</td>\n",
       "    </tr>\n",
       "  </tbody>\n",
       "</table>\n",
       "</div>"
      ],
      "text/plain": [
       "   BoroCode       BoroName     Shape_Leng    Shape_Area  \\\n",
       "0         5  Staten Island  330470.010332  1.623820e+09   \n",
       "1         4         Queens  896344.047763  3.045213e+09   \n",
       "2         3       Brooklyn  741080.523166  1.937479e+09   \n",
       "3         1      Manhattan  359299.096471  6.364715e+08   \n",
       "4         2          Bronx  464392.991824  1.186925e+09   \n",
       "\n",
       "                                            geometry  \n",
       "0  MULTIPOLYGON (((970217.022 145643.332, 970227....  \n",
       "1  MULTIPOLYGON (((1029606.077 156073.814, 102957...  \n",
       "2  MULTIPOLYGON (((1021176.479 151374.797, 102100...  \n",
       "3  MULTIPOLYGON (((981219.056 188655.316, 980940....  \n",
       "4  MULTIPOLYGON (((1012821.806 229228.265, 101278...  "
      ]
     },
     "execution_count": 13,
     "metadata": {},
     "output_type": "execute_result"
    }
   ],
   "source": [
    "import geodatasets\n",
    "\n",
    "boros = geopandas.read_file(geodatasets.get_path(\"nybb\"))\n",
    "boros.head()"
   ]
  },
  {
   "cell_type": "code",
   "execution_count": 14,
   "id": "ddec91eb",
   "metadata": {},
   "outputs": [],
   "source": [
    "# TODO join boros and nyc_trees on boros,BoroCode and nyc_trees,borocode"
   ]
  },
  {
   "cell_type": "code",
   "execution_count": 15,
   "id": "9fb8c6cc",
   "metadata": {},
   "outputs": [
    {
     "data": {
      "text/plain": [
       "<Projected CRS: EPSG:2263>\n",
       "Name: NAD83 / New York Long Island (ftUS)\n",
       "Axis Info [cartesian]:\n",
       "- X[east]: Easting (US survey foot)\n",
       "- Y[north]: Northing (US survey foot)\n",
       "Area of Use:\n",
       "- name: United States (USA) - New York - counties of Bronx; Kings; Nassau; New York; Queens; Richmond; Suffolk.\n",
       "- bounds: (-74.26, 40.47, -71.8, 41.3)\n",
       "Coordinate Operation:\n",
       "- name: SPCS83 New York Long Island zone (US Survey feet)\n",
       "- method: Lambert Conic Conformal (2SP)\n",
       "Datum: North American Datum 1983\n",
       "- Ellipsoid: GRS 1980\n",
       "- Prime Meridian: Greenwich"
      ]
     },
     "execution_count": 15,
     "metadata": {},
     "output_type": "execute_result"
    }
   ],
   "source": [
    "boros.crs"
   ]
  },
  {
   "cell_type": "code",
   "execution_count": 17,
   "id": "3151b2b5",
   "metadata": {},
   "outputs": [
    {
     "data": {
      "text/plain": [
       "<Geographic 2D CRS: EPSG:4326>\n",
       "Name: WGS 84\n",
       "Axis Info [ellipsoidal]:\n",
       "- Lat[north]: Geodetic latitude (degree)\n",
       "- Lon[east]: Geodetic longitude (degree)\n",
       "Area of Use:\n",
       "- name: World.\n",
       "- bounds: (-180.0, -90.0, 180.0, 90.0)\n",
       "Datum: World Geodetic System 1984 ensemble\n",
       "- Ellipsoid: WGS 84\n",
       "- Prime Meridian: Greenwich"
      ]
     },
     "execution_count": 17,
     "metadata": {},
     "output_type": "execute_result"
    }
   ],
   "source": [
    "nyc_trees.crs"
   ]
  },
  {
   "cell_type": "code",
   "execution_count": null,
   "id": "9b8d5693",
   "metadata": {},
   "outputs": [],
   "source": [
    "# b"
   ]
  }
 ],
 "metadata": {
  "kernelspec": {
   "display_name": "Python 3 (ipykernel)",
   "language": "python",
   "name": "python3"
  },
  "language_info": {
   "codemirror_mode": {
    "name": "ipython",
    "version": 3
   },
   "file_extension": ".py",
   "mimetype": "text/x-python",
   "name": "python",
   "nbconvert_exporter": "python",
   "pygments_lexer": "ipython3",
   "version": "3.9.7"
  }
 },
 "nbformat": 4,
 "nbformat_minor": 5
}
