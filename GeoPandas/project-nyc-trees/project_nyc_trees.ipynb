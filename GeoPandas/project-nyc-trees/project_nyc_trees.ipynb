{
 "cells": [
  {
   "cell_type": "code",
   "execution_count": 1,
   "id": "81a0f833",
   "metadata": {},
   "outputs": [],
   "source": [
    "import geopandas\n",
    "import geodatasets"
   ]
  },
  {
   "cell_type": "code",
   "execution_count": 2,
   "id": "f5cfcef9",
   "metadata": {},
   "outputs": [],
   "source": [
    "# nyc_trees = geopandas.read_file(\"data/2015 Street Tree Census - Tree Data.geojson\")\n",
    "# note: you need to install pyarrow for this to work\n",
    "nyc_trees = geopandas.read_parquet(\"data/nyc_trees.parquet\")"
   ]
  },
  {
   "cell_type": "code",
   "execution_count": 3,
   "id": "e0d1bbcf",
   "metadata": {},
   "outputs": [],
   "source": [
    "#import sys \n",
    "#!{sys.executable} -m pip install pyarrow"
   ]
  },
  {
   "cell_type": "code",
   "execution_count": 4,
   "id": "a5d93058",
   "metadata": {},
   "outputs": [],
   "source": [
    "# to_parquet is not supported in production yet.\n",
    "# using parquet reduces the read of the file to < 1 min.\n",
    "# without using parquet, read_file() takes ~6 min\n",
    "# nyc_trees.to_parquet('data/nyc_trees.parquet')"
   ]
  },
  {
   "cell_type": "code",
   "execution_count": 5,
   "id": "210b134d",
   "metadata": {},
   "outputs": [],
   "source": [
    "# TODO: Split up nyc_trees into bk_trees, mh_trees, queens_trees, si_trees, bronx_trees"
   ]
  },
  {
   "cell_type": "code",
   "execution_count": 6,
   "id": "8ba2c485",
   "metadata": {},
   "outputs": [
    {
     "data": {
      "text/html": [
       "<div>\n",
       "<style scoped>\n",
       "    .dataframe tbody tr th:only-of-type {\n",
       "        vertical-align: middle;\n",
       "    }\n",
       "\n",
       "    .dataframe tbody tr th {\n",
       "        vertical-align: top;\n",
       "    }\n",
       "\n",
       "    .dataframe thead th {\n",
       "        text-align: right;\n",
       "    }\n",
       "</style>\n",
       "<table border=\"1\" class=\"dataframe\">\n",
       "  <thead>\n",
       "    <tr style=\"text-align: right;\">\n",
       "      <th></th>\n",
       "      <th>nta</th>\n",
       "      <th>health</th>\n",
       "      <th>zipcode</th>\n",
       "      <th>latitude</th>\n",
       "      <th>nta_name</th>\n",
       "      <th>state</th>\n",
       "      <th>trnk_wire</th>\n",
       "      <th>y_sp</th>\n",
       "      <th>brnch_othe</th>\n",
       "      <th>root_grate</th>\n",
       "      <th>...</th>\n",
       "      <th>address</th>\n",
       "      <th>sidewalk</th>\n",
       "      <th>root_other</th>\n",
       "      <th>created_at</th>\n",
       "      <th>borocode</th>\n",
       "      <th>block_id</th>\n",
       "      <th>trnk_light</th>\n",
       "      <th>tree_dbh</th>\n",
       "      <th>root_stone</th>\n",
       "      <th>geometry</th>\n",
       "    </tr>\n",
       "  </thead>\n",
       "  <tbody>\n",
       "    <tr>\n",
       "      <th>0</th>\n",
       "      <td>QN17</td>\n",
       "      <td>Fair</td>\n",
       "      <td>11375</td>\n",
       "      <td>40.72309177</td>\n",
       "      <td>Forest Hills</td>\n",
       "      <td>New York</td>\n",
       "      <td>No</td>\n",
       "      <td>202756.768749</td>\n",
       "      <td>No</td>\n",
       "      <td>No</td>\n",
       "      <td>...</td>\n",
       "      <td>108-005 70 AVENUE</td>\n",
       "      <td>NoDamage</td>\n",
       "      <td>No</td>\n",
       "      <td>08/27/2015</td>\n",
       "      <td>4</td>\n",
       "      <td>348711</td>\n",
       "      <td>No</td>\n",
       "      <td>3</td>\n",
       "      <td>No</td>\n",
       "      <td>POINT (-73.84422 40.72309)</td>\n",
       "    </tr>\n",
       "    <tr>\n",
       "      <th>1</th>\n",
       "      <td>QN49</td>\n",
       "      <td>Fair</td>\n",
       "      <td>11357</td>\n",
       "      <td>40.79411067</td>\n",
       "      <td>Whitestone</td>\n",
       "      <td>New York</td>\n",
       "      <td>No</td>\n",
       "      <td>228644.837379</td>\n",
       "      <td>No</td>\n",
       "      <td>No</td>\n",
       "      <td>...</td>\n",
       "      <td>147-074 7 AVENUE</td>\n",
       "      <td>Damage</td>\n",
       "      <td>No</td>\n",
       "      <td>09/03/2015</td>\n",
       "      <td>4</td>\n",
       "      <td>315986</td>\n",
       "      <td>No</td>\n",
       "      <td>21</td>\n",
       "      <td>Yes</td>\n",
       "      <td>POINT (-73.81868 40.79411)</td>\n",
       "    </tr>\n",
       "    <tr>\n",
       "      <th>2</th>\n",
       "      <td>BK90</td>\n",
       "      <td>Good</td>\n",
       "      <td>11211</td>\n",
       "      <td>40.71758074</td>\n",
       "      <td>East Williamsburg</td>\n",
       "      <td>New York</td>\n",
       "      <td>No</td>\n",
       "      <td>200716.891267</td>\n",
       "      <td>No</td>\n",
       "      <td>No</td>\n",
       "      <td>...</td>\n",
       "      <td>390 MORGAN AVENUE</td>\n",
       "      <td>Damage</td>\n",
       "      <td>No</td>\n",
       "      <td>09/05/2015</td>\n",
       "      <td>3</td>\n",
       "      <td>218365</td>\n",
       "      <td>No</td>\n",
       "      <td>3</td>\n",
       "      <td>No</td>\n",
       "      <td>POINT (-73.93661 40.71758)</td>\n",
       "    </tr>\n",
       "    <tr>\n",
       "      <th>3</th>\n",
       "      <td>BK90</td>\n",
       "      <td>Good</td>\n",
       "      <td>11211</td>\n",
       "      <td>40.71353749</td>\n",
       "      <td>East Williamsburg</td>\n",
       "      <td>New York</td>\n",
       "      <td>No</td>\n",
       "      <td>199244.253136</td>\n",
       "      <td>No</td>\n",
       "      <td>No</td>\n",
       "      <td>...</td>\n",
       "      <td>1027 GRAND STREET</td>\n",
       "      <td>Damage</td>\n",
       "      <td>No</td>\n",
       "      <td>09/05/2015</td>\n",
       "      <td>3</td>\n",
       "      <td>217969</td>\n",
       "      <td>No</td>\n",
       "      <td>10</td>\n",
       "      <td>Yes</td>\n",
       "      <td>POINT (-73.93446 40.71354)</td>\n",
       "    </tr>\n",
       "    <tr>\n",
       "      <th>4</th>\n",
       "      <td>BK37</td>\n",
       "      <td>Good</td>\n",
       "      <td>11215</td>\n",
       "      <td>40.66677776</td>\n",
       "      <td>Park Slope-Gowanus</td>\n",
       "      <td>New York</td>\n",
       "      <td>No</td>\n",
       "      <td>182202.425999</td>\n",
       "      <td>No</td>\n",
       "      <td>No</td>\n",
       "      <td>...</td>\n",
       "      <td>603 6 STREET</td>\n",
       "      <td>Damage</td>\n",
       "      <td>No</td>\n",
       "      <td>08/30/2015</td>\n",
       "      <td>3</td>\n",
       "      <td>223043</td>\n",
       "      <td>No</td>\n",
       "      <td>21</td>\n",
       "      <td>Yes</td>\n",
       "      <td>POINT (-73.97598 40.66678)</td>\n",
       "    </tr>\n",
       "  </tbody>\n",
       "</table>\n",
       "<p>5 rows × 42 columns</p>\n",
       "</div>"
      ],
      "text/plain": [
       "    nta health zipcode     latitude            nta_name     state trnk_wire  \\\n",
       "0  QN17   Fair   11375  40.72309177        Forest Hills  New York        No   \n",
       "1  QN49   Fair   11357  40.79411067          Whitestone  New York        No   \n",
       "2  BK90   Good   11211  40.71758074   East Williamsburg  New York        No   \n",
       "3  BK90   Good   11211  40.71353749   East Williamsburg  New York        No   \n",
       "4  BK37   Good   11215  40.66677776  Park Slope-Gowanus  New York        No   \n",
       "\n",
       "            y_sp brnch_othe root_grate  ...            address  sidewalk  \\\n",
       "0  202756.768749         No         No  ...  108-005 70 AVENUE  NoDamage   \n",
       "1  228644.837379         No         No  ...   147-074 7 AVENUE    Damage   \n",
       "2  200716.891267         No         No  ...  390 MORGAN AVENUE    Damage   \n",
       "3  199244.253136         No         No  ...  1027 GRAND STREET    Damage   \n",
       "4  182202.425999         No         No  ...       603 6 STREET    Damage   \n",
       "\n",
       "  root_other  created_at borocode block_id trnk_light tree_dbh root_stone  \\\n",
       "0         No  08/27/2015        4   348711         No        3         No   \n",
       "1         No  09/03/2015        4   315986         No       21        Yes   \n",
       "2         No  09/05/2015        3   218365         No        3         No   \n",
       "3         No  09/05/2015        3   217969         No       10        Yes   \n",
       "4         No  08/30/2015        3   223043         No       21        Yes   \n",
       "\n",
       "                     geometry  \n",
       "0  POINT (-73.84422 40.72309)  \n",
       "1  POINT (-73.81868 40.79411)  \n",
       "2  POINT (-73.93661 40.71758)  \n",
       "3  POINT (-73.93446 40.71354)  \n",
       "4  POINT (-73.97598 40.66678)  \n",
       "\n",
       "[5 rows x 42 columns]"
      ]
     },
     "execution_count": 6,
     "metadata": {},
     "output_type": "execute_result"
    }
   ],
   "source": [
    "nyc_trees.head()"
   ]
  },
  {
   "cell_type": "code",
   "execution_count": 7,
   "id": "b744ad8e",
   "metadata": {},
   "outputs": [
    {
     "data": {
      "text/plain": [
       "Index(['nta', 'health', 'zipcode', 'latitude', 'nta_name', 'state',\n",
       "       'trnk_wire', 'y_sp', 'brnch_othe', 'root_grate', 'tree_id', 'steward',\n",
       "       'spc_common', 'trnk_other', 'x_sp', 'brnch_ligh', 'problems',\n",
       "       'longitude', 'boro_ct', 'zip_city', 'spc_latin', 'stump_diam',\n",
       "       'boroname', 'st_senate', 'user_type', 'status', 'brnch_shoe',\n",
       "       'curb_loc', 'cncldist', 'guards', 'st_assem', 'cb_num', 'address',\n",
       "       'sidewalk', 'root_other', 'created_at', 'borocode', 'block_id',\n",
       "       'trnk_light', 'tree_dbh', 'root_stone', 'geometry'],\n",
       "      dtype='object')"
      ]
     },
     "execution_count": 7,
     "metadata": {},
     "output_type": "execute_result"
    }
   ],
   "source": [
    "nyc_trees.columns"
   ]
  },
  {
   "cell_type": "code",
   "execution_count": 8,
   "id": "dcb2ff08",
   "metadata": {},
   "outputs": [
    {
     "data": {
      "text/plain": [
       "0    4\n",
       "1    4\n",
       "2    3\n",
       "3    3\n",
       "4    3\n",
       "Name: borocode, dtype: object"
      ]
     },
     "execution_count": 8,
     "metadata": {},
     "output_type": "execute_result"
    }
   ],
   "source": [
    "nyc_trees['borocode'].head()"
   ]
  },
  {
   "cell_type": "code",
   "execution_count": 9,
   "id": "974e87cb",
   "metadata": {},
   "outputs": [],
   "source": [
    "nyc_trees['borocode'] = nyc_trees['borocode'].astype(\"int64\")"
   ]
  },
  {
   "cell_type": "code",
   "execution_count": 10,
   "id": "379eb28c",
   "metadata": {},
   "outputs": [
    {
     "data": {
      "text/html": [
       "<div>\n",
       "<style scoped>\n",
       "    .dataframe tbody tr th:only-of-type {\n",
       "        vertical-align: middle;\n",
       "    }\n",
       "\n",
       "    .dataframe tbody tr th {\n",
       "        vertical-align: top;\n",
       "    }\n",
       "\n",
       "    .dataframe thead th {\n",
       "        text-align: right;\n",
       "    }\n",
       "</style>\n",
       "<table border=\"1\" class=\"dataframe\">\n",
       "  <thead>\n",
       "    <tr style=\"text-align: right;\">\n",
       "      <th></th>\n",
       "      <th>BoroCode</th>\n",
       "      <th>BoroName</th>\n",
       "      <th>Shape_Leng</th>\n",
       "      <th>Shape_Area</th>\n",
       "      <th>geometry</th>\n",
       "    </tr>\n",
       "  </thead>\n",
       "  <tbody>\n",
       "    <tr>\n",
       "      <th>0</th>\n",
       "      <td>5</td>\n",
       "      <td>Staten Island</td>\n",
       "      <td>330470.010332</td>\n",
       "      <td>1.623820e+09</td>\n",
       "      <td>MULTIPOLYGON (((970217.022 145643.332, 970227....</td>\n",
       "    </tr>\n",
       "    <tr>\n",
       "      <th>1</th>\n",
       "      <td>4</td>\n",
       "      <td>Queens</td>\n",
       "      <td>896344.047763</td>\n",
       "      <td>3.045213e+09</td>\n",
       "      <td>MULTIPOLYGON (((1029606.077 156073.814, 102957...</td>\n",
       "    </tr>\n",
       "    <tr>\n",
       "      <th>2</th>\n",
       "      <td>3</td>\n",
       "      <td>Brooklyn</td>\n",
       "      <td>741080.523166</td>\n",
       "      <td>1.937479e+09</td>\n",
       "      <td>MULTIPOLYGON (((1021176.479 151374.797, 102100...</td>\n",
       "    </tr>\n",
       "    <tr>\n",
       "      <th>3</th>\n",
       "      <td>1</td>\n",
       "      <td>Manhattan</td>\n",
       "      <td>359299.096471</td>\n",
       "      <td>6.364715e+08</td>\n",
       "      <td>MULTIPOLYGON (((981219.056 188655.316, 980940....</td>\n",
       "    </tr>\n",
       "    <tr>\n",
       "      <th>4</th>\n",
       "      <td>2</td>\n",
       "      <td>Bronx</td>\n",
       "      <td>464392.991824</td>\n",
       "      <td>1.186925e+09</td>\n",
       "      <td>MULTIPOLYGON (((1012821.806 229228.265, 101278...</td>\n",
       "    </tr>\n",
       "  </tbody>\n",
       "</table>\n",
       "</div>"
      ],
      "text/plain": [
       "   BoroCode       BoroName     Shape_Leng    Shape_Area  \\\n",
       "0         5  Staten Island  330470.010332  1.623820e+09   \n",
       "1         4         Queens  896344.047763  3.045213e+09   \n",
       "2         3       Brooklyn  741080.523166  1.937479e+09   \n",
       "3         1      Manhattan  359299.096471  6.364715e+08   \n",
       "4         2          Bronx  464392.991824  1.186925e+09   \n",
       "\n",
       "                                            geometry  \n",
       "0  MULTIPOLYGON (((970217.022 145643.332, 970227....  \n",
       "1  MULTIPOLYGON (((1029606.077 156073.814, 102957...  \n",
       "2  MULTIPOLYGON (((1021176.479 151374.797, 102100...  \n",
       "3  MULTIPOLYGON (((981219.056 188655.316, 980940....  \n",
       "4  MULTIPOLYGON (((1012821.806 229228.265, 101278...  "
      ]
     },
     "execution_count": 10,
     "metadata": {},
     "output_type": "execute_result"
    }
   ],
   "source": [
    "boros = geopandas.read_file(geodatasets.get_path(\"nybb\"))\n",
    "boros.head()"
   ]
  },
  {
   "cell_type": "code",
   "execution_count": 11,
   "id": "ddec91eb",
   "metadata": {},
   "outputs": [],
   "source": [
    "# TODO join boros and nyc_trees on boros,BoroCode and nyc_trees,borocode"
   ]
  },
  {
   "cell_type": "code",
   "execution_count": 12,
   "id": "9fb8c6cc",
   "metadata": {},
   "outputs": [
    {
     "data": {
      "text/plain": [
       "<Projected CRS: EPSG:2263>\n",
       "Name: NAD83 / New York Long Island (ftUS)\n",
       "Axis Info [cartesian]:\n",
       "- X[east]: Easting (US survey foot)\n",
       "- Y[north]: Northing (US survey foot)\n",
       "Area of Use:\n",
       "- name: United States (USA) - New York - counties of Bronx; Kings; Nassau; New York; Queens; Richmond; Suffolk.\n",
       "- bounds: (-74.26, 40.47, -71.8, 41.3)\n",
       "Coordinate Operation:\n",
       "- name: SPCS83 New York Long Island zone (US Survey feet)\n",
       "- method: Lambert Conic Conformal (2SP)\n",
       "Datum: North American Datum 1983\n",
       "- Ellipsoid: GRS 1980\n",
       "- Prime Meridian: Greenwich"
      ]
     },
     "execution_count": 12,
     "metadata": {},
     "output_type": "execute_result"
    }
   ],
   "source": [
    "boros.crs"
   ]
  },
  {
   "cell_type": "code",
   "execution_count": 13,
   "id": "3151b2b5",
   "metadata": {},
   "outputs": [
    {
     "data": {
      "text/plain": [
       "<Geographic 2D CRS: EPSG:4326>\n",
       "Name: WGS 84\n",
       "Axis Info [ellipsoidal]:\n",
       "- Lat[north]: Geodetic latitude (degree)\n",
       "- Lon[east]: Geodetic longitude (degree)\n",
       "Area of Use:\n",
       "- name: World.\n",
       "- bounds: (-180.0, -90.0, 180.0, 90.0)\n",
       "Datum: World Geodetic System 1984 ensemble\n",
       "- Ellipsoid: WGS 84\n",
       "- Prime Meridian: Greenwich"
      ]
     },
     "execution_count": 13,
     "metadata": {},
     "output_type": "execute_result"
    }
   ],
   "source": [
    "nyc_trees.crs"
   ]
  },
  {
   "cell_type": "code",
   "execution_count": 14,
   "id": "9b8d5693",
   "metadata": {},
   "outputs": [],
   "source": [
    "# going to change the crs of boros since it is smaller\n",
    "boros = boros.to_crs(nyc_trees.crs)"
   ]
  },
  {
   "cell_type": "code",
   "execution_count": 15,
   "id": "18b325e6",
   "metadata": {},
   "outputs": [
    {
     "data": {
      "text/plain": [
       "<Geographic 2D CRS: EPSG:4326>\n",
       "Name: WGS 84\n",
       "Axis Info [ellipsoidal]:\n",
       "- Lat[north]: Geodetic latitude (degree)\n",
       "- Lon[east]: Geodetic longitude (degree)\n",
       "Area of Use:\n",
       "- name: World.\n",
       "- bounds: (-180.0, -90.0, 180.0, 90.0)\n",
       "Datum: World Geodetic System 1984 ensemble\n",
       "- Ellipsoid: WGS 84\n",
       "- Prime Meridian: Greenwich"
      ]
     },
     "execution_count": 15,
     "metadata": {},
     "output_type": "execute_result"
    }
   ],
   "source": [
    "boros.crs"
   ]
  },
  {
   "cell_type": "code",
   "execution_count": 16,
   "id": "28cd8995",
   "metadata": {},
   "outputs": [],
   "source": [
    "boro_names = boros[['BoroCode', 'BoroName']]"
   ]
  },
  {
   "cell_type": "code",
   "execution_count": 17,
   "id": "9382db00",
   "metadata": {},
   "outputs": [],
   "source": [
    "boro_names = boro_names.rename(columns={'BoroCode': 'borocode'})"
   ]
  },
  {
   "cell_type": "code",
   "execution_count": 18,
   "id": "39a0504e",
   "metadata": {},
   "outputs": [],
   "source": [
    "# can we use `join()` instead of merge?\n",
    "nyc_trees = nyc_trees.merge(boro_names, on='borocode')"
   ]
  },
  {
   "cell_type": "code",
   "execution_count": 19,
   "id": "b8ff4a14",
   "metadata": {},
   "outputs": [
    {
     "data": {
      "text/plain": [
       "0    Queens\n",
       "1    Queens\n",
       "2    Queens\n",
       "3    Queens\n",
       "4    Queens\n",
       "Name: BoroName, dtype: object"
      ]
     },
     "execution_count": 19,
     "metadata": {},
     "output_type": "execute_result"
    }
   ],
   "source": [
    "nyc_trees['BoroName'].head()"
   ]
  },
  {
   "cell_type": "markdown",
   "id": "e46d8d9f",
   "metadata": {},
   "source": [
    "### Which Borough Has the Most Trees?"
   ]
  },
  {
   "cell_type": "code",
   "execution_count": 20,
   "id": "b33b40be",
   "metadata": {},
   "outputs": [],
   "source": [
    "tree_count = nyc_trees.groupby(['BoroName']).sum()"
   ]
  },
  {
   "cell_type": "code",
   "execution_count": 21,
   "id": "d3b56dbc",
   "metadata": {},
   "outputs": [],
   "source": [
    "tree_count = tree_count.rename(columns={'borocode': 'count'})"
   ]
  },
  {
   "cell_type": "code",
   "execution_count": 22,
   "id": "d702af46",
   "metadata": {},
   "outputs": [
    {
     "data": {
      "text/html": [
       "<div>\n",
       "<style scoped>\n",
       "    .dataframe tbody tr th:only-of-type {\n",
       "        vertical-align: middle;\n",
       "    }\n",
       "\n",
       "    .dataframe tbody tr th {\n",
       "        vertical-align: top;\n",
       "    }\n",
       "\n",
       "    .dataframe thead th {\n",
       "        text-align: right;\n",
       "    }\n",
       "</style>\n",
       "<table border=\"1\" class=\"dataframe\">\n",
       "  <thead>\n",
       "    <tr style=\"text-align: right;\">\n",
       "      <th></th>\n",
       "      <th>count</th>\n",
       "    </tr>\n",
       "    <tr>\n",
       "      <th>BoroName</th>\n",
       "      <th></th>\n",
       "    </tr>\n",
       "  </thead>\n",
       "  <tbody>\n",
       "    <tr>\n",
       "      <th>Manhattan</th>\n",
       "      <td>65423</td>\n",
       "    </tr>\n",
       "    <tr>\n",
       "      <th>Bronx</th>\n",
       "      <td>170406</td>\n",
       "    </tr>\n",
       "    <tr>\n",
       "      <th>Staten Island</th>\n",
       "      <td>526590</td>\n",
       "    </tr>\n",
       "    <tr>\n",
       "      <th>Brooklyn</th>\n",
       "      <td>531879</td>\n",
       "    </tr>\n",
       "    <tr>\n",
       "      <th>Queens</th>\n",
       "      <td>1002204</td>\n",
       "    </tr>\n",
       "  </tbody>\n",
       "</table>\n",
       "</div>"
      ],
      "text/plain": [
       "                 count\n",
       "BoroName              \n",
       "Manhattan        65423\n",
       "Bronx           170406\n",
       "Staten Island   526590\n",
       "Brooklyn        531879\n",
       "Queens         1002204"
      ]
     },
     "execution_count": 22,
     "metadata": {},
     "output_type": "execute_result"
    }
   ],
   "source": [
    "tree_count.sort_values(by=['count'])"
   ]
  },
  {
   "cell_type": "code",
   "execution_count": 23,
   "id": "c9e4ae86",
   "metadata": {},
   "outputs": [],
   "source": [
    "# get the geometries back onto tree_count\n",
    "tree_count = boros.merge(tree_count, on='BoroName')"
   ]
  },
  {
   "cell_type": "code",
   "execution_count": 24,
   "id": "1511bc5c",
   "metadata": {},
   "outputs": [
    {
     "data": {
      "image/png": "[encoded data removed]",
      "text/plain": [
       "<Figure size 432x288 with 1 Axes>"
      ]
     },
     "metadata": {
      "needs_background": "light"
     },
     "output_type": "display_data"
    }
   ],
   "source": [
    "# TODO: display the above as a chloropleth map\n",
    "base = boros.plot(color='white', edgecolor='blue')"
   ]
  },
  {
   "cell_type": "code",
   "execution_count": 25,
   "id": "3d576e61",
   "metadata": {
    "scrolled": true
   },
   "outputs": [
    {
     "data": {
      "text/plain": [
       "<AxesSubplot:>"
      ]
     },
     "execution_count": 25,
     "metadata": {},
     "output_type": "execute_result"
    },
    {
     "data": {
      "image/png": "[encoded data removed]",
      "text/plain": [
       "<Figure size 432x288 with 2 Axes>"
      ]
     },
     "metadata": {
      "needs_background": "light"
     },
     "output_type": "display_data"
    }
   ],
   "source": [
    "tree_count.plot(column=\"count\",  legend=True)"
   ]
  },
  {
   "cell_type": "markdown",
   "id": "73183d3f",
   "metadata": {},
   "source": [
    "## What is the area of each borough?\n",
    "\n",
    "And which borough has the highest *density* of trees?"
   ]
  },
  {
   "cell_type": "code",
   "execution_count": 26,
   "id": "2cc38279",
   "metadata": {},
   "outputs": [],
   "source": [
    "# we need to convert Geometry column back to a geographic CRS to be able to get areas\n",
    "boros_geographic = boros.to_crs(\"EPSG:2263\")"
   ]
  },
  {
   "cell_type": "markdown",
   "id": "12f10a08",
   "metadata": {},
   "source": [
    "What units will the area be in?\n",
    "- you can find out in this case from the `.name` of the `.crs` object\n",
    "- in this case the name tells us the units are feet (ft)\n",
    "- when we take the area, we will get feet squared (ft^2)"
   ]
  },
  {
   "cell_type": "code",
   "execution_count": 27,
   "id": "200f1c24",
   "metadata": {},
   "outputs": [
    {
     "data": {
      "text/plain": [
       "'NAD83 / New York Long Island (ftUS)'"
      ]
     },
     "execution_count": 27,
     "metadata": {},
     "output_type": "execute_result"
    }
   ],
   "source": [
    "boros_geographic.crs.name"
   ]
  },
  {
   "cell_type": "code",
   "execution_count": 28,
   "id": "3a80f2c3",
   "metadata": {
    "scrolled": true
   },
   "outputs": [
    {
     "data": {
      "text/plain": [
       "0    1.623822e+09\n",
       "1    3.045214e+09\n",
       "2    1.937478e+09\n",
       "3    6.364712e+08\n",
       "4    1.186926e+09\n",
       "dtype: float64"
      ]
     },
     "execution_count": 28,
     "metadata": {},
     "output_type": "execute_result"
    }
   ],
   "source": [
    "boros_geographic.geometry.area"
   ]
  },
  {
   "cell_type": "code",
   "execution_count": 29,
   "id": "8e354c4e",
   "metadata": {},
   "outputs": [],
   "source": [
    "# add tree count to boros_geographic\n",
    "# create a new gdf with BoroName, area, count, \n",
    "# how to merge in the tree_count['count'] based on BoroName?\n",
    "# boros_geographic['tree_count'] = tree_count['count']"
   ]
  },
  {
   "cell_type": "markdown",
   "id": "e96486cb",
   "metadata": {},
   "source": [
    "I realized at this point, that area is already in the orignal `boros` gdf under `Shape_Area`"
   ]
  },
  {
   "cell_type": "code",
   "execution_count": 30,
   "id": "4afe99d7",
   "metadata": {},
   "outputs": [],
   "source": [
    "boros_w_count = boros_geographic.merge(tree_count[['BoroName', 'count']], on='BoroName')"
   ]
  },
  {
   "cell_type": "code",
   "execution_count": 31,
   "id": "b0836015",
   "metadata": {},
   "outputs": [
    {
     "data": {
      "text/html": [
       "<div>\n",
       "<style scoped>\n",
       "    .dataframe tbody tr th:only-of-type {\n",
       "        vertical-align: middle;\n",
       "    }\n",
       "\n",
       "    .dataframe tbody tr th {\n",
       "        vertical-align: top;\n",
       "    }\n",
       "\n",
       "    .dataframe thead th {\n",
       "        text-align: right;\n",
       "    }\n",
       "</style>\n",
       "<table border=\"1\" class=\"dataframe\">\n",
       "  <thead>\n",
       "    <tr style=\"text-align: right;\">\n",
       "      <th></th>\n",
       "      <th>BoroCode</th>\n",
       "      <th>BoroName</th>\n",
       "      <th>Shape_Leng</th>\n",
       "      <th>Shape_Area</th>\n",
       "      <th>geometry</th>\n",
       "      <th>count</th>\n",
       "    </tr>\n",
       "  </thead>\n",
       "  <tbody>\n",
       "    <tr>\n",
       "      <th>0</th>\n",
       "      <td>5</td>\n",
       "      <td>Staten Island</td>\n",
       "      <td>330470.010332</td>\n",
       "      <td>1.623820e+09</td>\n",
       "      <td>MULTIPOLYGON (((970217.022 145643.332, 970227....</td>\n",
       "      <td>526590</td>\n",
       "    </tr>\n",
       "    <tr>\n",
       "      <th>1</th>\n",
       "      <td>4</td>\n",
       "      <td>Queens</td>\n",
       "      <td>896344.047763</td>\n",
       "      <td>3.045213e+09</td>\n",
       "      <td>MULTIPOLYGON (((1029606.077 156073.814, 102957...</td>\n",
       "      <td>1002204</td>\n",
       "    </tr>\n",
       "    <tr>\n",
       "      <th>2</th>\n",
       "      <td>3</td>\n",
       "      <td>Brooklyn</td>\n",
       "      <td>741080.523166</td>\n",
       "      <td>1.937479e+09</td>\n",
       "      <td>MULTIPOLYGON (((1021176.479 151374.797, 102100...</td>\n",
       "      <td>531879</td>\n",
       "    </tr>\n",
       "    <tr>\n",
       "      <th>3</th>\n",
       "      <td>1</td>\n",
       "      <td>Manhattan</td>\n",
       "      <td>359299.096471</td>\n",
       "      <td>6.364715e+08</td>\n",
       "      <td>MULTIPOLYGON (((981219.056 188655.316, 980940....</td>\n",
       "      <td>65423</td>\n",
       "    </tr>\n",
       "    <tr>\n",
       "      <th>4</th>\n",
       "      <td>2</td>\n",
       "      <td>Bronx</td>\n",
       "      <td>464392.991824</td>\n",
       "      <td>1.186925e+09</td>\n",
       "      <td>MULTIPOLYGON (((1012821.806 229228.265, 101278...</td>\n",
       "      <td>170406</td>\n",
       "    </tr>\n",
       "  </tbody>\n",
       "</table>\n",
       "</div>"
      ],
      "text/plain": [
       "   BoroCode       BoroName     Shape_Leng    Shape_Area  \\\n",
       "0         5  Staten Island  330470.010332  1.623820e+09   \n",
       "1         4         Queens  896344.047763  3.045213e+09   \n",
       "2         3       Brooklyn  741080.523166  1.937479e+09   \n",
       "3         1      Manhattan  359299.096471  6.364715e+08   \n",
       "4         2          Bronx  464392.991824  1.186925e+09   \n",
       "\n",
       "                                            geometry    count  \n",
       "0  MULTIPOLYGON (((970217.022 145643.332, 970227....   526590  \n",
       "1  MULTIPOLYGON (((1029606.077 156073.814, 102957...  1002204  \n",
       "2  MULTIPOLYGON (((1021176.479 151374.797, 102100...   531879  \n",
       "3  MULTIPOLYGON (((981219.056 188655.316, 980940....    65423  \n",
       "4  MULTIPOLYGON (((1012821.806 229228.265, 101278...   170406  "
      ]
     },
     "execution_count": 31,
     "metadata": {},
     "output_type": "execute_result"
    }
   ],
   "source": [
    "boros_w_count.head()"
   ]
  },
  {
   "cell_type": "code",
   "execution_count": 32,
   "id": "87327c00",
   "metadata": {},
   "outputs": [],
   "source": [
    "boros_w_count['density'] = boros_w_count['count'] / boros_w_count['Shape_Area']"
   ]
  },
  {
   "cell_type": "code",
   "execution_count": 33,
   "id": "dfbbefc8",
   "metadata": {},
   "outputs": [
    {
     "data": {
      "text/plain": [
       "0    0.000324\n",
       "1    0.000329\n",
       "2    0.000275\n",
       "3    0.000103\n",
       "4    0.000144\n",
       "Name: density, dtype: float64"
      ]
     },
     "execution_count": 33,
     "metadata": {},
     "output_type": "execute_result"
    }
   ],
   "source": [
    "boros_w_count['density']"
   ]
  },
  {
   "cell_type": "code",
   "execution_count": 34,
   "id": "6f3fc17c",
   "metadata": {},
   "outputs": [
    {
     "data": {
      "text/plain": [
       "<AxesSubplot:>"
      ]
     },
     "execution_count": 34,
     "metadata": {},
     "output_type": "execute_result"
    },
    {
     "data": {
      "image/png": "[encoded data removed]",
      "text/plain": [
       "<Figure size 432x288 with 2 Axes>"
      ]
     },
     "metadata": {
      "needs_background": "light"
     },
     "output_type": "display_data"
    }
   ],
   "source": [
    "boros_w_count.plot('density', legend=True)"
   ]
  },
  {
   "cell_type": "markdown",
   "id": "39ea4fee",
   "metadata": {},
   "source": [
    "## Finding the longest lines of trees in NYC\n",
    "\n",
    "* first add a buffer to each point so points will overlap.\n",
    "* then create a new gdf of joined points -> lines. \n",
    "* try plotting the lines with the `base = boros.plot(color='white', edgecolor='blue')`\n",
    "* then try to find the longest line"
   ]
  },
  {
   "cell_type": "code",
   "execution_count": 35,
   "id": "e3cb8d89",
   "metadata": {},
   "outputs": [
    {
     "data": {
      "text/html": [
       "<div>\n",
       "<style scoped>\n",
       "    .dataframe tbody tr th:only-of-type {\n",
       "        vertical-align: middle;\n",
       "    }\n",
       "\n",
       "    .dataframe tbody tr th {\n",
       "        vertical-align: top;\n",
       "    }\n",
       "\n",
       "    .dataframe thead th {\n",
       "        text-align: right;\n",
       "    }\n",
       "</style>\n",
       "<table border=\"1\" class=\"dataframe\">\n",
       "  <thead>\n",
       "    <tr style=\"text-align: right;\">\n",
       "      <th></th>\n",
       "      <th>BoroCode</th>\n",
       "      <th>BoroName</th>\n",
       "      <th>Shape_Leng</th>\n",
       "      <th>Shape_Area</th>\n",
       "      <th>geometry</th>\n",
       "    </tr>\n",
       "  </thead>\n",
       "  <tbody>\n",
       "    <tr>\n",
       "      <th>0</th>\n",
       "      <td>5</td>\n",
       "      <td>Staten Island</td>\n",
       "      <td>330470.010332</td>\n",
       "      <td>1.623820e+09</td>\n",
       "      <td>MULTIPOLYGON (((-74.05051 40.56642, -74.05047 ...</td>\n",
       "    </tr>\n",
       "    <tr>\n",
       "      <th>1</th>\n",
       "      <td>4</td>\n",
       "      <td>Queens</td>\n",
       "      <td>896344.047763</td>\n",
       "      <td>3.045213e+09</td>\n",
       "      <td>MULTIPOLYGON (((-73.83668 40.59495, -73.83678 ...</td>\n",
       "    </tr>\n",
       "    <tr>\n",
       "      <th>2</th>\n",
       "      <td>3</td>\n",
       "      <td>Brooklyn</td>\n",
       "      <td>741080.523166</td>\n",
       "      <td>1.937479e+09</td>\n",
       "      <td>MULTIPOLYGON (((-73.86706 40.58209, -73.86769 ...</td>\n",
       "    </tr>\n",
       "    <tr>\n",
       "      <th>3</th>\n",
       "      <td>1</td>\n",
       "      <td>Manhattan</td>\n",
       "      <td>359299.096471</td>\n",
       "      <td>6.364715e+08</td>\n",
       "      <td>MULTIPOLYGON (((-74.01093 40.68449, -74.01193 ...</td>\n",
       "    </tr>\n",
       "    <tr>\n",
       "      <th>4</th>\n",
       "      <td>2</td>\n",
       "      <td>Bronx</td>\n",
       "      <td>464392.991824</td>\n",
       "      <td>1.186925e+09</td>\n",
       "      <td>MULTIPOLYGON (((-73.89681 40.79581, -73.89694 ...</td>\n",
       "    </tr>\n",
       "  </tbody>\n",
       "</table>\n",
       "</div>"
      ],
      "text/plain": [
       "   BoroCode       BoroName     Shape_Leng    Shape_Area  \\\n",
       "0         5  Staten Island  330470.010332  1.623820e+09   \n",
       "1         4         Queens  896344.047763  3.045213e+09   \n",
       "2         3       Brooklyn  741080.523166  1.937479e+09   \n",
       "3         1      Manhattan  359299.096471  6.364715e+08   \n",
       "4         2          Bronx  464392.991824  1.186925e+09   \n",
       "\n",
       "                                            geometry  \n",
       "0  MULTIPOLYGON (((-74.05051 40.56642, -74.05047 ...  \n",
       "1  MULTIPOLYGON (((-73.83668 40.59495, -73.83678 ...  \n",
       "2  MULTIPOLYGON (((-73.86706 40.58209, -73.86769 ...  \n",
       "3  MULTIPOLYGON (((-74.01093 40.68449, -74.01193 ...  \n",
       "4  MULTIPOLYGON (((-73.89681 40.79581, -73.89694 ...  "
      ]
     },
     "execution_count": 35,
     "metadata": {},
     "output_type": "execute_result"
    }
   ],
   "source": [
    "boros.head()"
   ]
  },
  {
   "cell_type": "code",
   "execution_count": 36,
   "id": "267e02cb",
   "metadata": {
    "scrolled": true
   },
   "outputs": [
    {
     "data": {
      "text/html": [
       "<div>\n",
       "<style scoped>\n",
       "    .dataframe tbody tr th:only-of-type {\n",
       "        vertical-align: middle;\n",
       "    }\n",
       "\n",
       "    .dataframe tbody tr th {\n",
       "        vertical-align: top;\n",
       "    }\n",
       "\n",
       "    .dataframe thead th {\n",
       "        text-align: right;\n",
       "    }\n",
       "</style>\n",
       "<table border=\"1\" class=\"dataframe\">\n",
       "  <thead>\n",
       "    <tr style=\"text-align: right;\">\n",
       "      <th></th>\n",
       "      <th>nta</th>\n",
       "      <th>health</th>\n",
       "      <th>zipcode</th>\n",
       "      <th>latitude</th>\n",
       "      <th>nta_name</th>\n",
       "      <th>state</th>\n",
       "      <th>trnk_wire</th>\n",
       "      <th>y_sp</th>\n",
       "      <th>brnch_othe</th>\n",
       "      <th>root_grate</th>\n",
       "      <th>...</th>\n",
       "      <th>sidewalk</th>\n",
       "      <th>root_other</th>\n",
       "      <th>created_at</th>\n",
       "      <th>borocode</th>\n",
       "      <th>block_id</th>\n",
       "      <th>trnk_light</th>\n",
       "      <th>tree_dbh</th>\n",
       "      <th>root_stone</th>\n",
       "      <th>geometry</th>\n",
       "      <th>BoroName</th>\n",
       "    </tr>\n",
       "  </thead>\n",
       "  <tbody>\n",
       "    <tr>\n",
       "      <th>0</th>\n",
       "      <td>QN17</td>\n",
       "      <td>Fair</td>\n",
       "      <td>11375</td>\n",
       "      <td>40.72309177</td>\n",
       "      <td>Forest Hills</td>\n",
       "      <td>New York</td>\n",
       "      <td>No</td>\n",
       "      <td>202756.768749</td>\n",
       "      <td>No</td>\n",
       "      <td>No</td>\n",
       "      <td>...</td>\n",
       "      <td>NoDamage</td>\n",
       "      <td>No</td>\n",
       "      <td>08/27/2015</td>\n",
       "      <td>4</td>\n",
       "      <td>348711</td>\n",
       "      <td>No</td>\n",
       "      <td>3</td>\n",
       "      <td>No</td>\n",
       "      <td>POINT (-73.84422 40.72309)</td>\n",
       "      <td>Queens</td>\n",
       "    </tr>\n",
       "    <tr>\n",
       "      <th>1</th>\n",
       "      <td>QN49</td>\n",
       "      <td>Fair</td>\n",
       "      <td>11357</td>\n",
       "      <td>40.79411067</td>\n",
       "      <td>Whitestone</td>\n",
       "      <td>New York</td>\n",
       "      <td>No</td>\n",
       "      <td>228644.837379</td>\n",
       "      <td>No</td>\n",
       "      <td>No</td>\n",
       "      <td>...</td>\n",
       "      <td>Damage</td>\n",
       "      <td>No</td>\n",
       "      <td>09/03/2015</td>\n",
       "      <td>4</td>\n",
       "      <td>315986</td>\n",
       "      <td>No</td>\n",
       "      <td>21</td>\n",
       "      <td>Yes</td>\n",
       "      <td>POINT (-73.81868 40.79411)</td>\n",
       "      <td>Queens</td>\n",
       "    </tr>\n",
       "    <tr>\n",
       "      <th>2</th>\n",
       "      <td>QN72</td>\n",
       "      <td>Good</td>\n",
       "      <td>11105</td>\n",
       "      <td>40.78242823</td>\n",
       "      <td>Steinway</td>\n",
       "      <td>New York</td>\n",
       "      <td>No</td>\n",
       "      <td>224349.036588</td>\n",
       "      <td>No</td>\n",
       "      <td>No</td>\n",
       "      <td>...</td>\n",
       "      <td>NoDamage</td>\n",
       "      <td>No</td>\n",
       "      <td>09/05/2015</td>\n",
       "      <td>4</td>\n",
       "      <td>302371</td>\n",
       "      <td>No</td>\n",
       "      <td>11</td>\n",
       "      <td>No</td>\n",
       "      <td>POINT (-73.91117 40.78243)</td>\n",
       "      <td>Queens</td>\n",
       "    </tr>\n",
       "    <tr>\n",
       "      <th>3</th>\n",
       "      <td>QN72</td>\n",
       "      <td>Poor</td>\n",
       "      <td>11105</td>\n",
       "      <td>40.78173511</td>\n",
       "      <td>Steinway</td>\n",
       "      <td>New York</td>\n",
       "      <td>No</td>\n",
       "      <td>224096.27397</td>\n",
       "      <td>No</td>\n",
       "      <td>No</td>\n",
       "      <td>...</td>\n",
       "      <td>NoDamage</td>\n",
       "      <td>No</td>\n",
       "      <td>09/05/2015</td>\n",
       "      <td>4</td>\n",
       "      <td>302371</td>\n",
       "      <td>No</td>\n",
       "      <td>8</td>\n",
       "      <td>No</td>\n",
       "      <td>POINT (-73.91202 40.78174)</td>\n",
       "      <td>Queens</td>\n",
       "    </tr>\n",
       "    <tr>\n",
       "      <th>4</th>\n",
       "      <td>QN25</td>\n",
       "      <td>Fair</td>\n",
       "      <td>11373</td>\n",
       "      <td>40.73764622</td>\n",
       "      <td>Corona</td>\n",
       "      <td>New York</td>\n",
       "      <td>No</td>\n",
       "      <td>208049.712887</td>\n",
       "      <td>No</td>\n",
       "      <td>No</td>\n",
       "      <td>...</td>\n",
       "      <td>NoDamage</td>\n",
       "      <td>No</td>\n",
       "      <td>08/29/2015</td>\n",
       "      <td>4</td>\n",
       "      <td>342816</td>\n",
       "      <td>Yes</td>\n",
       "      <td>14</td>\n",
       "      <td>No</td>\n",
       "      <td>POINT (-73.86530 40.73765)</td>\n",
       "      <td>Queens</td>\n",
       "    </tr>\n",
       "  </tbody>\n",
       "</table>\n",
       "<p>5 rows × 43 columns</p>\n",
       "</div>"
      ],
      "text/plain": [
       "    nta health zipcode     latitude      nta_name     state trnk_wire  \\\n",
       "0  QN17   Fair   11375  40.72309177  Forest Hills  New York        No   \n",
       "1  QN49   Fair   11357  40.79411067    Whitestone  New York        No   \n",
       "2  QN72   Good   11105  40.78242823      Steinway  New York        No   \n",
       "3  QN72   Poor   11105  40.78173511      Steinway  New York        No   \n",
       "4  QN25   Fair   11373  40.73764622        Corona  New York        No   \n",
       "\n",
       "            y_sp brnch_othe root_grate  ...  sidewalk root_other  created_at  \\\n",
       "0  202756.768749         No         No  ...  NoDamage         No  08/27/2015   \n",
       "1  228644.837379         No         No  ...    Damage         No  09/03/2015   \n",
       "2  224349.036588         No         No  ...  NoDamage         No  09/05/2015   \n",
       "3   224096.27397         No         No  ...  NoDamage         No  09/05/2015   \n",
       "4  208049.712887         No         No  ...  NoDamage         No  08/29/2015   \n",
       "\n",
       "  borocode block_id trnk_light tree_dbh root_stone  \\\n",
       "0        4   348711         No        3         No   \n",
       "1        4   315986         No       21        Yes   \n",
       "2        4   302371         No       11         No   \n",
       "3        4   302371         No        8         No   \n",
       "4        4   342816        Yes       14         No   \n",
       "\n",
       "                     geometry BoroName  \n",
       "0  POINT (-73.84422 40.72309)   Queens  \n",
       "1  POINT (-73.81868 40.79411)   Queens  \n",
       "2  POINT (-73.91117 40.78243)   Queens  \n",
       "3  POINT (-73.91202 40.78174)   Queens  \n",
       "4  POINT (-73.86530 40.73765)   Queens  \n",
       "\n",
       "[5 rows x 43 columns]"
      ]
     },
     "execution_count": 36,
     "metadata": {},
     "output_type": "execute_result"
    }
   ],
   "source": [
    "nyc_trees.head()"
   ]
  },
  {
   "cell_type": "code",
   "execution_count": 37,
   "id": "a3931f4b",
   "metadata": {},
   "outputs": [
    {
     "data": {
      "text/plain": [
       "<Geographic 2D CRS: EPSG:4326>\n",
       "Name: WGS 84\n",
       "Axis Info [ellipsoidal]:\n",
       "- Lat[north]: Geodetic latitude (degree)\n",
       "- Lon[east]: Geodetic longitude (degree)\n",
       "Area of Use:\n",
       "- name: World.\n",
       "- bounds: (-180.0, -90.0, 180.0, 90.0)\n",
       "Datum: World Geodetic System 1984 ensemble\n",
       "- Ellipsoid: WGS 84\n",
       "- Prime Meridian: Greenwich"
      ]
     },
     "execution_count": 37,
     "metadata": {},
     "output_type": "execute_result"
    }
   ],
   "source": [
    "boros.crs"
   ]
  },
  {
   "cell_type": "code",
   "execution_count": 38,
   "id": "1be86d02",
   "metadata": {},
   "outputs": [
    {
     "data": {
      "text/plain": [
       "<Geographic 2D CRS: EPSG:4326>\n",
       "Name: WGS 84\n",
       "Axis Info [ellipsoidal]:\n",
       "- Lat[north]: Geodetic latitude (degree)\n",
       "- Lon[east]: Geodetic longitude (degree)\n",
       "Area of Use:\n",
       "- name: World.\n",
       "- bounds: (-180.0, -90.0, 180.0, 90.0)\n",
       "Datum: World Geodetic System 1984 ensemble\n",
       "- Ellipsoid: WGS 84\n",
       "- Prime Meridian: Greenwich"
      ]
     },
     "execution_count": 38,
     "metadata": {},
     "output_type": "execute_result"
    }
   ],
   "source": [
    "# ok looks like nyc_tree is geographic (degrees)\n",
    "# can I call buffer() on a geographic CRS?\n",
    "# you can, but it is more accurate to use a projected CRS first to get more accurate results with a meaningful unit (e.g. ft)\n",
    "nyc_trees.crs"
   ]
  },
  {
   "cell_type": "code",
   "execution_count": 39,
   "id": "7b6c8556",
   "metadata": {},
   "outputs": [],
   "source": [
    "nyc_trees_projected = nyc_trees.to_crs('EPSG:2263')"
   ]
  },
  {
   "cell_type": "code",
   "execution_count": 40,
   "id": "06bc225c",
   "metadata": {},
   "outputs": [
    {
     "data": {
      "text/plain": [
       "<Projected CRS: EPSG:2263>\n",
       "Name: NAD83 / New York Long Island (ftUS)\n",
       "Axis Info [cartesian]:\n",
       "- X[east]: Easting (US survey foot)\n",
       "- Y[north]: Northing (US survey foot)\n",
       "Area of Use:\n",
       "- name: United States (USA) - New York - counties of Bronx; Kings; Nassau; New York; Queens; Richmond; Suffolk.\n",
       "- bounds: (-74.26, 40.47, -71.8, 41.3)\n",
       "Coordinate Operation:\n",
       "- name: SPCS83 New York Long Island zone (US Survey feet)\n",
       "- method: Lambert Conic Conformal (2SP)\n",
       "Datum: North American Datum 1983\n",
       "- Ellipsoid: GRS 1980\n",
       "- Prime Meridian: Greenwich"
      ]
     },
     "execution_count": 40,
     "metadata": {},
     "output_type": "execute_result"
    }
   ],
   "source": [
    "nyc_trees_projected.crs"
   ]
  },
  {
   "cell_type": "code",
   "execution_count": 41,
   "id": "78323b84",
   "metadata": {},
   "outputs": [],
   "source": [
    "# this should return points buffered with a radius of 12 ft\n",
    "# this operation took > 1 s\n",
    "nyc_trees_projected['buffered_points'] = nyc_trees_projected.geometry.buffer(12)"
   ]
  },
  {
   "cell_type": "code",
   "execution_count": 42,
   "id": "a98aa932",
   "metadata": {},
   "outputs": [],
   "source": [
    "# nyc_trees_projected['buffered_points'].plot()"
   ]
  },
  {
   "cell_type": "code",
   "execution_count": 43,
   "id": "75a0cabb",
   "metadata": {},
   "outputs": [],
   "source": [
    "# calling .plot() on the buffered points is taking a long time...\n",
    "# I wonder if this is a potential use case for the `.simplify()` geopandas method"
   ]
  },
  {
   "cell_type": "code",
   "execution_count": 44,
   "id": "3676184b",
   "metadata": {},
   "outputs": [],
   "source": [
    "# now let's create a new gdf with lines created from these points\n",
    "# I think we need to call\n",
    "# if I have a gdf with a bunch of potentially overlapping points, how can I create a new gdf/geoseries with lines that\n",
    "# represent the points that do overlap.\n",
    "# geospatial operation: intersect... I think.\n",
    "# hm... yeah it's like I want a union... but I only want to have a union of points that intersect."
   ]
  },
  {
   "cell_type": "code",
   "execution_count": 45,
   "id": "85fbd18e",
   "metadata": {},
   "outputs": [
    {
     "data": {
      "text/html": [
       "<div>\n",
       "<style scoped>\n",
       "    .dataframe tbody tr th:only-of-type {\n",
       "        vertical-align: middle;\n",
       "    }\n",
       "\n",
       "    .dataframe tbody tr th {\n",
       "        vertical-align: top;\n",
       "    }\n",
       "\n",
       "    .dataframe thead th {\n",
       "        text-align: right;\n",
       "    }\n",
       "</style>\n",
       "<table border=\"1\" class=\"dataframe\">\n",
       "  <thead>\n",
       "    <tr style=\"text-align: right;\">\n",
       "      <th></th>\n",
       "      <th>nta</th>\n",
       "      <th>health</th>\n",
       "      <th>zipcode</th>\n",
       "      <th>latitude</th>\n",
       "      <th>nta_name</th>\n",
       "      <th>state</th>\n",
       "      <th>trnk_wire</th>\n",
       "      <th>y_sp</th>\n",
       "      <th>brnch_othe</th>\n",
       "      <th>root_grate</th>\n",
       "      <th>...</th>\n",
       "      <th>root_other</th>\n",
       "      <th>created_at</th>\n",
       "      <th>borocode</th>\n",
       "      <th>block_id</th>\n",
       "      <th>trnk_light</th>\n",
       "      <th>tree_dbh</th>\n",
       "      <th>root_stone</th>\n",
       "      <th>geometry</th>\n",
       "      <th>BoroName</th>\n",
       "      <th>buffered_points</th>\n",
       "    </tr>\n",
       "  </thead>\n",
       "  <tbody>\n",
       "    <tr>\n",
       "      <th>0</th>\n",
       "      <td>QN17</td>\n",
       "      <td>Fair</td>\n",
       "      <td>11375</td>\n",
       "      <td>40.72309177</td>\n",
       "      <td>Forest Hills</td>\n",
       "      <td>New York</td>\n",
       "      <td>No</td>\n",
       "      <td>202756.768749</td>\n",
       "      <td>No</td>\n",
       "      <td>No</td>\n",
       "      <td>...</td>\n",
       "      <td>No</td>\n",
       "      <td>08/27/2015</td>\n",
       "      <td>4</td>\n",
       "      <td>348711</td>\n",
       "      <td>No</td>\n",
       "      <td>3</td>\n",
       "      <td>No</td>\n",
       "      <td>POINT (1027431.148 202756.769)</td>\n",
       "      <td>Queens</td>\n",
       "      <td>POLYGON ((1027443.148 202756.769, 1027443.090 ...</td>\n",
       "    </tr>\n",
       "    <tr>\n",
       "      <th>1</th>\n",
       "      <td>QN49</td>\n",
       "      <td>Fair</td>\n",
       "      <td>11357</td>\n",
       "      <td>40.79411067</td>\n",
       "      <td>Whitestone</td>\n",
       "      <td>New York</td>\n",
       "      <td>No</td>\n",
       "      <td>228644.837379</td>\n",
       "      <td>No</td>\n",
       "      <td>No</td>\n",
       "      <td>...</td>\n",
       "      <td>No</td>\n",
       "      <td>09/03/2015</td>\n",
       "      <td>4</td>\n",
       "      <td>315986</td>\n",
       "      <td>No</td>\n",
       "      <td>21</td>\n",
       "      <td>Yes</td>\n",
       "      <td>POINT (1034455.701 228644.837)</td>\n",
       "      <td>Queens</td>\n",
       "      <td>POLYGON ((1034467.701 228644.837, 1034467.643 ...</td>\n",
       "    </tr>\n",
       "    <tr>\n",
       "      <th>2</th>\n",
       "      <td>QN72</td>\n",
       "      <td>Good</td>\n",
       "      <td>11105</td>\n",
       "      <td>40.78242823</td>\n",
       "      <td>Steinway</td>\n",
       "      <td>New York</td>\n",
       "      <td>No</td>\n",
       "      <td>224349.036588</td>\n",
       "      <td>No</td>\n",
       "      <td>No</td>\n",
       "      <td>...</td>\n",
       "      <td>No</td>\n",
       "      <td>09/05/2015</td>\n",
       "      <td>4</td>\n",
       "      <td>302371</td>\n",
       "      <td>No</td>\n",
       "      <td>11</td>\n",
       "      <td>No</td>\n",
       "      <td>POINT (1008850.185 224349.037)</td>\n",
       "      <td>Queens</td>\n",
       "      <td>POLYGON ((1008862.185 224349.037, 1008862.127 ...</td>\n",
       "    </tr>\n",
       "    <tr>\n",
       "      <th>3</th>\n",
       "      <td>QN72</td>\n",
       "      <td>Poor</td>\n",
       "      <td>11105</td>\n",
       "      <td>40.78173511</td>\n",
       "      <td>Steinway</td>\n",
       "      <td>New York</td>\n",
       "      <td>No</td>\n",
       "      <td>224096.27397</td>\n",
       "      <td>No</td>\n",
       "      <td>No</td>\n",
       "      <td>...</td>\n",
       "      <td>No</td>\n",
       "      <td>09/05/2015</td>\n",
       "      <td>4</td>\n",
       "      <td>302371</td>\n",
       "      <td>No</td>\n",
       "      <td>8</td>\n",
       "      <td>No</td>\n",
       "      <td>POINT (1008615.374 224096.274)</td>\n",
       "      <td>Queens</td>\n",
       "      <td>POLYGON ((1008627.374 224096.274, 1008627.317 ...</td>\n",
       "    </tr>\n",
       "    <tr>\n",
       "      <th>4</th>\n",
       "      <td>QN25</td>\n",
       "      <td>Fair</td>\n",
       "      <td>11373</td>\n",
       "      <td>40.73764622</td>\n",
       "      <td>Corona</td>\n",
       "      <td>New York</td>\n",
       "      <td>No</td>\n",
       "      <td>208049.712887</td>\n",
       "      <td>No</td>\n",
       "      <td>No</td>\n",
       "      <td>...</td>\n",
       "      <td>No</td>\n",
       "      <td>08/29/2015</td>\n",
       "      <td>4</td>\n",
       "      <td>342816</td>\n",
       "      <td>Yes</td>\n",
       "      <td>14</td>\n",
       "      <td>No</td>\n",
       "      <td>POINT (1021578.644 208049.713)</td>\n",
       "      <td>Queens</td>\n",
       "      <td>POLYGON ((1021590.644 208049.713, 1021590.587 ...</td>\n",
       "    </tr>\n",
       "  </tbody>\n",
       "</table>\n",
       "<p>5 rows × 44 columns</p>\n",
       "</div>"
      ],
      "text/plain": [
       "    nta health zipcode     latitude      nta_name     state trnk_wire  \\\n",
       "0  QN17   Fair   11375  40.72309177  Forest Hills  New York        No   \n",
       "1  QN49   Fair   11357  40.79411067    Whitestone  New York        No   \n",
       "2  QN72   Good   11105  40.78242823      Steinway  New York        No   \n",
       "3  QN72   Poor   11105  40.78173511      Steinway  New York        No   \n",
       "4  QN25   Fair   11373  40.73764622        Corona  New York        No   \n",
       "\n",
       "            y_sp brnch_othe root_grate  ... root_other  created_at borocode  \\\n",
       "0  202756.768749         No         No  ...         No  08/27/2015        4   \n",
       "1  228644.837379         No         No  ...         No  09/03/2015        4   \n",
       "2  224349.036588         No         No  ...         No  09/05/2015        4   \n",
       "3   224096.27397         No         No  ...         No  09/05/2015        4   \n",
       "4  208049.712887         No         No  ...         No  08/29/2015        4   \n",
       "\n",
       "  block_id trnk_light tree_dbh root_stone                        geometry  \\\n",
       "0   348711         No        3         No  POINT (1027431.148 202756.769)   \n",
       "1   315986         No       21        Yes  POINT (1034455.701 228644.837)   \n",
       "2   302371         No       11         No  POINT (1008850.185 224349.037)   \n",
       "3   302371         No        8         No  POINT (1008615.374 224096.274)   \n",
       "4   342816        Yes       14         No  POINT (1021578.644 208049.713)   \n",
       "\n",
       "  BoroName                                    buffered_points  \n",
       "0   Queens  POLYGON ((1027443.148 202756.769, 1027443.090 ...  \n",
       "1   Queens  POLYGON ((1034467.701 228644.837, 1034467.643 ...  \n",
       "2   Queens  POLYGON ((1008862.185 224349.037, 1008862.127 ...  \n",
       "3   Queens  POLYGON ((1008627.374 224096.274, 1008627.317 ...  \n",
       "4   Queens  POLYGON ((1021590.644 208049.713, 1021590.587 ...  \n",
       "\n",
       "[5 rows x 44 columns]"
      ]
     },
     "execution_count": 45,
     "metadata": {},
     "output_type": "execute_result"
    }
   ],
   "source": [
    "nyc_trees_projected.head()"
   ]
  },
  {
   "cell_type": "code",
   "execution_count": 46,
   "id": "60ee881d",
   "metadata": {},
   "outputs": [
    {
     "data": {
      "text/plain": [
       "0         Queens\n",
       "1         Queens\n",
       "2         Queens\n",
       "3         Queens\n",
       "4         Queens\n",
       "           ...  \n",
       "683783     Bronx\n",
       "683784     Bronx\n",
       "683785     Bronx\n",
       "683786     Bronx\n",
       "683787     Bronx\n",
       "Name: BoroName, Length: 683788, dtype: object"
      ]
     },
     "execution_count": 46,
     "metadata": {},
     "output_type": "execute_result"
    }
   ],
   "source": [
    "nyc_trees_projected['BoroName']"
   ]
  },
  {
   "cell_type": "code",
   "execution_count": 47,
   "id": "4b1d33ff",
   "metadata": {},
   "outputs": [],
   "source": [
    "# this might be useful if I want to find the longest lines in each borough\n",
    "# overlapping_points = gdf[gdf.dissolve(by='your_attribute_column').geometry.apply(lambda x: len(x) > 1)]"
   ]
  },
  {
   "cell_type": "code",
   "execution_count": 48,
   "id": "88662021",
   "metadata": {},
   "outputs": [],
   "source": [
    "# since the buffered points are actually polygons, I think I want to create a gdf with MultiPolygons representing the \n",
    "# overlapping polygons\n",
    "buffered_points = nyc_trees_projected['buffered_points']\n",
    "# overlapping_points = buffered_points[buffered_points.apply(lambda x: buffered_points.intersects(x).sum() > 1)]"
   ]
  },
  {
   "cell_type": "code",
   "execution_count": 49,
   "id": "7faec0c2",
   "metadata": {},
   "outputs": [],
   "source": [
    "# started at 9:54...\n",
    "# ok this is going to be very slow I imagine... it has to do like a cross-join across the entire dataset...\n",
    "# I guess this is where something like Dask comes in handy...\n",
    "# how many rows are there in this dataset?\n",
    "# still going at 10:13...\n",
    "# stil going at 10:44 [interrupted]"
   ]
  },
  {
   "cell_type": "markdown",
   "id": "74120a26",
   "metadata": {},
   "source": [
    "### Attempting to create Multipolygons from Polygons in a slightly more efficient manner, still single threaded "
   ]
  },
  {
   "cell_type": "code",
   "execution_count": 60,
   "id": "877f42be",
   "metadata": {},
   "outputs": [],
   "source": [
    "manhattan_buf_points = nyc_trees_projected[['BoroName', 'buffered_points']][nyc_trees_projected['BoroName'] == 'Manhattan']"
   ]
  },
  {
   "cell_type": "code",
   "execution_count": 61,
   "id": "c19b179b",
   "metadata": {},
   "outputs": [
    {
     "data": {
      "text/plain": [
       "65423"
      ]
     },
     "execution_count": 61,
     "metadata": {},
     "output_type": "execute_result"
    }
   ],
   "source": [
    "len(manhattan_buf_points)"
   ]
  },
  {
   "cell_type": "code",
   "execution_count": 62,
   "id": "018e2854",
   "metadata": {
    "scrolled": true
   },
   "outputs": [
    {
     "data": {
      "text/html": [
       "<div>\n",
       "<style scoped>\n",
       "    .dataframe tbody tr th:only-of-type {\n",
       "        vertical-align: middle;\n",
       "    }\n",
       "\n",
       "    .dataframe tbody tr th {\n",
       "        vertical-align: top;\n",
       "    }\n",
       "\n",
       "    .dataframe thead th {\n",
       "        text-align: right;\n",
       "    }\n",
       "</style>\n",
       "<table border=\"1\" class=\"dataframe\">\n",
       "  <thead>\n",
       "    <tr style=\"text-align: right;\">\n",
       "      <th></th>\n",
       "      <th>BoroName</th>\n",
       "      <th>buffered_points</th>\n",
       "    </tr>\n",
       "  </thead>\n",
       "  <tbody>\n",
       "    <tr>\n",
       "      <th>427844</th>\n",
       "      <td>Manhattan</td>\n",
       "      <td>POLYGON ((988430.700 219825.523, 988430.642 21...</td>\n",
       "    </tr>\n",
       "    <tr>\n",
       "      <th>427845</th>\n",
       "      <td>Manhattan</td>\n",
       "      <td>POLYGON ((988323.190 219885.278, 988323.132 21...</td>\n",
       "    </tr>\n",
       "    <tr>\n",
       "      <th>427846</th>\n",
       "      <td>Manhattan</td>\n",
       "      <td>POLYGON ((987781.116 217157.856, 987781.059 21...</td>\n",
       "    </tr>\n",
       "    <tr>\n",
       "      <th>427847</th>\n",
       "      <td>Manhattan</td>\n",
       "      <td>POLYGON ((995215.004 220602.155, 995214.946 22...</td>\n",
       "    </tr>\n",
       "    <tr>\n",
       "      <th>427848</th>\n",
       "      <td>Manhattan</td>\n",
       "      <td>POLYGON ((989533.741 224212.888, 989533.684 22...</td>\n",
       "    </tr>\n",
       "  </tbody>\n",
       "</table>\n",
       "</div>"
      ],
      "text/plain": [
       "         BoroName                                    buffered_points\n",
       "427844  Manhattan  POLYGON ((988430.700 219825.523, 988430.642 21...\n",
       "427845  Manhattan  POLYGON ((988323.190 219885.278, 988323.132 21...\n",
       "427846  Manhattan  POLYGON ((987781.116 217157.856, 987781.059 21...\n",
       "427847  Manhattan  POLYGON ((995215.004 220602.155, 995214.946 22...\n",
       "427848  Manhattan  POLYGON ((989533.741 224212.888, 989533.684 22..."
      ]
     },
     "execution_count": 62,
     "metadata": {},
     "output_type": "execute_result"
    }
   ],
   "source": [
    "manhattan_buf_points.head()"
   ]
  },
  {
   "cell_type": "code",
   "execution_count": 70,
   "id": "e6ea1e2e",
   "metadata": {},
   "outputs": [],
   "source": [
    "copy = manhattan_buf_points.copy()"
   ]
  },
  {
   "cell_type": "code",
   "execution_count": 71,
   "id": "8b4ccd30",
   "metadata": {},
   "outputs": [
    {
     "data": {
      "text/html": [
       "<div>\n",
       "<style scoped>\n",
       "    .dataframe tbody tr th:only-of-type {\n",
       "        vertical-align: middle;\n",
       "    }\n",
       "\n",
       "    .dataframe tbody tr th {\n",
       "        vertical-align: top;\n",
       "    }\n",
       "\n",
       "    .dataframe thead th {\n",
       "        text-align: right;\n",
       "    }\n",
       "</style>\n",
       "<table border=\"1\" class=\"dataframe\">\n",
       "  <thead>\n",
       "    <tr style=\"text-align: right;\">\n",
       "      <th></th>\n",
       "      <th>BoroName</th>\n",
       "      <th>buffered_points</th>\n",
       "    </tr>\n",
       "  </thead>\n",
       "  <tbody>\n",
       "    <tr>\n",
       "      <th>427844</th>\n",
       "      <td>Manhattan</td>\n",
       "      <td>POLYGON ((988430.700 219825.523, 988430.642 21...</td>\n",
       "    </tr>\n",
       "    <tr>\n",
       "      <th>427845</th>\n",
       "      <td>Manhattan</td>\n",
       "      <td>POLYGON ((988323.190 219885.278, 988323.132 21...</td>\n",
       "    </tr>\n",
       "    <tr>\n",
       "      <th>427846</th>\n",
       "      <td>Manhattan</td>\n",
       "      <td>POLYGON ((987781.116 217157.856, 987781.059 21...</td>\n",
       "    </tr>\n",
       "    <tr>\n",
       "      <th>427847</th>\n",
       "      <td>Manhattan</td>\n",
       "      <td>POLYGON ((995215.004 220602.155, 995214.946 22...</td>\n",
       "    </tr>\n",
       "    <tr>\n",
       "      <th>427848</th>\n",
       "      <td>Manhattan</td>\n",
       "      <td>POLYGON ((989533.741 224212.888, 989533.684 22...</td>\n",
       "    </tr>\n",
       "  </tbody>\n",
       "</table>\n",
       "</div>"
      ],
      "text/plain": [
       "         BoroName                                    buffered_points\n",
       "427844  Manhattan  POLYGON ((988430.700 219825.523, 988430.642 21...\n",
       "427845  Manhattan  POLYGON ((988323.190 219885.278, 988323.132 21...\n",
       "427846  Manhattan  POLYGON ((987781.116 217157.856, 987781.059 21...\n",
       "427847  Manhattan  POLYGON ((995215.004 220602.155, 995214.946 22...\n",
       "427848  Manhattan  POLYGON ((989533.741 224212.888, 989533.684 22..."
      ]
     },
     "execution_count": 71,
     "metadata": {},
     "output_type": "execute_result"
    }
   ],
   "source": [
    "copy.head()"
   ]
  },
  {
   "cell_type": "code",
   "execution_count": 73,
   "id": "98201e5c",
   "metadata": {},
   "outputs": [],
   "source": [
    "intersecting_gdf = manhattan_buf_points.sjoin(copy, predicate=\"intersects\")"
   ]
  },
  {
   "cell_type": "code",
   "execution_count": 74,
   "id": "535b6bed",
   "metadata": {},
   "outputs": [
    {
     "data": {
      "text/html": [
       "<div>\n",
       "<style scoped>\n",
       "    .dataframe tbody tr th:only-of-type {\n",
       "        vertical-align: middle;\n",
       "    }\n",
       "\n",
       "    .dataframe tbody tr th {\n",
       "        vertical-align: top;\n",
       "    }\n",
       "\n",
       "    .dataframe thead th {\n",
       "        text-align: right;\n",
       "    }\n",
       "</style>\n",
       "<table border=\"1\" class=\"dataframe\">\n",
       "  <thead>\n",
       "    <tr style=\"text-align: right;\">\n",
       "      <th></th>\n",
       "      <th>BoroName_left</th>\n",
       "      <th>buffered_points</th>\n",
       "      <th>index_right</th>\n",
       "      <th>BoroName_right</th>\n",
       "    </tr>\n",
       "  </thead>\n",
       "  <tbody>\n",
       "    <tr>\n",
       "      <th>427844</th>\n",
       "      <td>Manhattan</td>\n",
       "      <td>POLYGON ((988430.700 219825.523, 988430.642 21...</td>\n",
       "      <td>427844</td>\n",
       "      <td>Manhattan</td>\n",
       "    </tr>\n",
       "    <tr>\n",
       "      <th>427845</th>\n",
       "      <td>Manhattan</td>\n",
       "      <td>POLYGON ((988323.190 219885.278, 988323.132 21...</td>\n",
       "      <td>427853</td>\n",
       "      <td>Manhattan</td>\n",
       "    </tr>\n",
       "    <tr>\n",
       "      <th>427853</th>\n",
       "      <td>Manhattan</td>\n",
       "      <td>POLYGON ((988342.245 219874.688, 988342.187 21...</td>\n",
       "      <td>427853</td>\n",
       "      <td>Manhattan</td>\n",
       "    </tr>\n",
       "    <tr>\n",
       "      <th>427845</th>\n",
       "      <td>Manhattan</td>\n",
       "      <td>POLYGON ((988323.190 219885.278, 988323.132 21...</td>\n",
       "      <td>427845</td>\n",
       "      <td>Manhattan</td>\n",
       "    </tr>\n",
       "    <tr>\n",
       "      <th>427853</th>\n",
       "      <td>Manhattan</td>\n",
       "      <td>POLYGON ((988342.245 219874.688, 988342.187 21...</td>\n",
       "      <td>427845</td>\n",
       "      <td>Manhattan</td>\n",
       "    </tr>\n",
       "  </tbody>\n",
       "</table>\n",
       "</div>"
      ],
      "text/plain": [
       "       BoroName_left                                    buffered_points  \\\n",
       "427844     Manhattan  POLYGON ((988430.700 219825.523, 988430.642 21...   \n",
       "427845     Manhattan  POLYGON ((988323.190 219885.278, 988323.132 21...   \n",
       "427853     Manhattan  POLYGON ((988342.245 219874.688, 988342.187 21...   \n",
       "427845     Manhattan  POLYGON ((988323.190 219885.278, 988323.132 21...   \n",
       "427853     Manhattan  POLYGON ((988342.245 219874.688, 988342.187 21...   \n",
       "\n",
       "        index_right BoroName_right  \n",
       "427844       427844      Manhattan  \n",
       "427845       427853      Manhattan  \n",
       "427853       427853      Manhattan  \n",
       "427845       427845      Manhattan  \n",
       "427853       427845      Manhattan  "
      ]
     },
     "execution_count": 74,
     "metadata": {},
     "output_type": "execute_result"
    }
   ],
   "source": [
    "intersecting_gdf.head()"
   ]
  },
  {
   "cell_type": "code",
   "execution_count": 75,
   "id": "c0820af4",
   "metadata": {},
   "outputs": [],
   "source": [
    "intersecting_gdf = intersecting_gdf.loc[\n",
    "    intersecting_gdf.index != intersecting_gdf.index_right\n",
    "]"
   ]
  },
  {
   "cell_type": "code",
   "execution_count": 76,
   "id": "b744b990",
   "metadata": {},
   "outputs": [
    {
     "data": {
      "text/html": [
       "<div>\n",
       "<style scoped>\n",
       "    .dataframe tbody tr th:only-of-type {\n",
       "        vertical-align: middle;\n",
       "    }\n",
       "\n",
       "    .dataframe tbody tr th {\n",
       "        vertical-align: top;\n",
       "    }\n",
       "\n",
       "    .dataframe thead th {\n",
       "        text-align: right;\n",
       "    }\n",
       "</style>\n",
       "<table border=\"1\" class=\"dataframe\">\n",
       "  <thead>\n",
       "    <tr style=\"text-align: right;\">\n",
       "      <th></th>\n",
       "      <th>BoroName_left</th>\n",
       "      <th>buffered_points</th>\n",
       "      <th>index_right</th>\n",
       "      <th>BoroName_right</th>\n",
       "    </tr>\n",
       "  </thead>\n",
       "  <tbody>\n",
       "    <tr>\n",
       "      <th>427845</th>\n",
       "      <td>Manhattan</td>\n",
       "      <td>POLYGON ((988323.190 219885.278, 988323.132 21...</td>\n",
       "      <td>427853</td>\n",
       "      <td>Manhattan</td>\n",
       "    </tr>\n",
       "    <tr>\n",
       "      <th>427853</th>\n",
       "      <td>Manhattan</td>\n",
       "      <td>POLYGON ((988342.245 219874.688, 988342.187 21...</td>\n",
       "      <td>427845</td>\n",
       "      <td>Manhattan</td>\n",
       "    </tr>\n",
       "    <tr>\n",
       "      <th>427846</th>\n",
       "      <td>Manhattan</td>\n",
       "      <td>POLYGON ((987781.116 217157.856, 987781.059 21...</td>\n",
       "      <td>428098</td>\n",
       "      <td>Manhattan</td>\n",
       "    </tr>\n",
       "    <tr>\n",
       "      <th>428098</th>\n",
       "      <td>Manhattan</td>\n",
       "      <td>POLYGON ((987798.616 217148.173, 987798.558 21...</td>\n",
       "      <td>427846</td>\n",
       "      <td>Manhattan</td>\n",
       "    </tr>\n",
       "    <tr>\n",
       "      <th>428241</th>\n",
       "      <td>Manhattan</td>\n",
       "      <td>POLYGON ((987764.491 217167.055, 987764.434 21...</td>\n",
       "      <td>427846</td>\n",
       "      <td>Manhattan</td>\n",
       "    </tr>\n",
       "  </tbody>\n",
       "</table>\n",
       "</div>"
      ],
      "text/plain": [
       "       BoroName_left                                    buffered_points  \\\n",
       "427845     Manhattan  POLYGON ((988323.190 219885.278, 988323.132 21...   \n",
       "427853     Manhattan  POLYGON ((988342.245 219874.688, 988342.187 21...   \n",
       "427846     Manhattan  POLYGON ((987781.116 217157.856, 987781.059 21...   \n",
       "428098     Manhattan  POLYGON ((987798.616 217148.173, 987798.558 21...   \n",
       "428241     Manhattan  POLYGON ((987764.491 217167.055, 987764.434 21...   \n",
       "\n",
       "        index_right BoroName_right  \n",
       "427845       427853      Manhattan  \n",
       "427853       427845      Manhattan  \n",
       "427846       428098      Manhattan  \n",
       "428098       427846      Manhattan  \n",
       "428241       427846      Manhattan  "
      ]
     },
     "execution_count": 76,
     "metadata": {},
     "output_type": "execute_result"
    }
   ],
   "source": [
    "intersecting_gdf.head()"
   ]
  },
  {
   "cell_type": "code",
   "execution_count": 67,
   "id": "1782a19e",
   "metadata": {},
   "outputs": [
    {
     "data": {
      "text/plain": [
       "geopandas.geodataframe.GeoDataFrame"
      ]
     },
     "execution_count": 67,
     "metadata": {},
     "output_type": "execute_result"
    }
   ],
   "source": [
    "type(manhattan_buf_points)"
   ]
  },
  {
   "cell_type": "code",
   "execution_count": 63,
   "id": "174c3ab5",
   "metadata": {},
   "outputs": [],
   "source": [
    "manhattan_buf_points = manhattan_buf_points.set_geometry(\"buffered_points\")"
   ]
  },
  {
   "cell_type": "markdown",
   "id": "7b05eced",
   "metadata": {},
   "source": [
    "### Attempting to use a spatial index"
   ]
  },
  {
   "cell_type": "code",
   "execution_count": 64,
   "id": "6e2a97a3",
   "metadata": {},
   "outputs": [
    {
     "data": {
      "text/plain": [
       "<geopandas.sindex.PyGEOSSTRTreeIndex at 0x27d0e62cd00>"
      ]
     },
     "execution_count": 64,
     "metadata": {},
     "output_type": "execute_result"
    }
   ],
   "source": [
    "manhattan_buf_points.sindex"
   ]
  },
  {
   "cell_type": "markdown",
   "id": "6191857d",
   "metadata": {},
   "source": [
    "https://stackoverflow.com/questions/76273433/how-to-extract-overlapping-geometries-within-a-single-geodataframe-using-python\n",
    "\n",
    "^ that's almost my exact question."
   ]
  },
  {
   "cell_type": "code",
   "execution_count": null,
   "id": "77a484fa",
   "metadata": {},
   "outputs": [],
   "source": []
  },
  {
   "cell_type": "code",
   "execution_count": 69,
   "id": "22de5f1a",
   "metadata": {},
   "outputs": [],
   "source": [
    "# Boom! You have to assign an index to a new column \n",
    "# first you do a spatial join on itself with predicate=\"intersects\"\n",
    "# then you filter for the index != index_right :D \n",
    "# then you will have the list of polygons that do overlap...\n",
    "# hm idk if you can make linestrings from the overlapping polygons \n",
    "# easily though."
   ]
  },
  {
   "cell_type": "code",
   "execution_count": 54,
   "id": "77586768",
   "metadata": {},
   "outputs": [],
   "source": [
    "# gdf[gdf.dissolve(by='your_attribute_column').geometry.apply(lambda x: len(x) > 1)]\n",
    "# overlapping_points = manhattan_buf_points[manhattan_buf_points.geometry.apply(lambda x: manhattan_buf_points.intersects(x).sum() > 1)]"
   ]
  },
  {
   "cell_type": "code",
   "execution_count": 55,
   "id": "70c127a7",
   "metadata": {
    "scrolled": false
   },
   "outputs": [],
   "source": [
    "# started at 3:02, O(n^2) for 65,423 rows. Each row contains a Shapely object.\n",
    "# oh snap! It is done by 3:05 :O \n",
    "# overlapping_points.head()"
   ]
  },
  {
   "cell_type": "code",
   "execution_count": 56,
   "id": "e4d45346",
   "metadata": {},
   "outputs": [],
   "source": [
    "# I think this might not work bc we're essentially joining it with itself and I didn't \n",
    "# exclude the same rows. Since it looks like overlapping_points has a numeric index\n",
    "# I can probably instead join it to itself and have a condition that the numeric index cannot match\n",
    "# result_gdf = geopandas.GeoDataFrame(columns=['geometry'])\n",
    "\n",
    "# # Iterate through the polygons in the original GeoDataFrame\n",
    "# for index, row in overlapping_points.iterrows():\n",
    "#     polygon = row['buffered_points']\n",
    "    \n",
    "#     # Check if the polygon intersects with any existing multipolygons\n",
    "#     intersects = False\n",
    "#     for idx, existing_mp in overlapping_points.iterrows():\n",
    "#         if polygon.intersects(existing_mp['buffered_points']):\n",
    "#             # If it intersects, update the existing multipolygon\n",
    "#             result_gdf.append({'geometry': existing_mp['buffered_points'].union(polygon)}, ignore_index=True)\n",
    "#             intersects = True\n",
    "#             break\n",
    "    \n",
    "#     # If the polygon doesn't intersect with any existing multipolygon, add it as a new multipolygon\n",
    "#     if not intersects:\n",
    "#         result_gdf = result_gdf.append({'geometry': polygon}, ignore_index=True)\n",
    "\n",
    "# started at 3:21...\n",
    "# still running at 3:42\n",
    "# still running at 3:57"
   ]
  },
  {
   "cell_type": "code",
   "execution_count": null,
   "id": "699f3bb0",
   "metadata": {},
   "outputs": [],
   "source": []
  },
  {
   "cell_type": "code",
   "execution_count": null,
   "id": "e9656361",
   "metadata": {},
   "outputs": [],
   "source": []
  }
 ],
 "metadata": {
  "kernelspec": {
   "display_name": "Python 3 (ipykernel)",
   "language": "python",
   "name": "python3"
  },
  "language_info": {
   "codemirror_mode": {
    "name": "ipython",
    "version": 3
   },
   "file_extension": ".py",
   "mimetype": "text/x-python",
   "name": "python",
   "nbconvert_exporter": "python",
   "pygments_lexer": "ipython3",
   "version": "3.9.7"
  }
 },
 "nbformat": 4,
 "nbformat_minor": 5
}
